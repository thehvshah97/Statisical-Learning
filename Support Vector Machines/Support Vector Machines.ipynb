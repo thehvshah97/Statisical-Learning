{
 "cells": [
  {
   "cell_type": "code",
   "execution_count": 78,
   "metadata": {},
   "outputs": [],
   "source": [
    "import numpy as np\n",
    "from scipy.io import loadmat\n",
    "from libsvm.svmutil import *"
   ]
  },
  {
   "cell_type": "code",
   "execution_count": 79,
   "metadata": {
    "scrolled": true
   },
   "outputs": [],
   "source": [
    "#load data for different features\n",
    "train_data = loadmat(\"trainData.mat\")\n",
    "test_data = loadmat(\"testData.mat\")\n",
    "\n",
    "#loading features for training and testing data\n",
    "x1_train = train_data['X1'] \n",
    "x2_train = train_data['X2']\n",
    "x3_train = train_data['X3']\n",
    "y_train = train_data['Y'].flatten()\n",
    "x1_test = test_data['X1']\n",
    "x2_test = test_data['X2']\n",
    "x3_test = test_data['X3'] \n",
    "y_test = test_data['Y'].flatten()"
   ]
  },
  {
   "cell_type": "code",
   "execution_count": 80,
   "metadata": {},
   "outputs": [],
   "source": [
    "problem1 = svm_problem(y_train, x1_train)\n",
    "problem2 = svm_problem(y_train, x2_train)\n",
    "problem3 = svm_problem(y_train, x3_train)"
   ]
  },
  {
   "cell_type": "code",
   "execution_count": 81,
   "metadata": {},
   "outputs": [],
   "source": [
    "#Step 0.1 - Train models for all the features \n",
    "model1 = svm_train(problem1,'-c 10 -t 0')\n",
    "model2 = svm_train(problem2, '-c 10 -t 0')\n",
    "model3 = svm_train(problem3, '-c 10 -t 0')"
   ]
  },
  {
   "cell_type": "code",
   "execution_count": 82,
   "metadata": {},
   "outputs": [
    {
     "name": "stdout",
     "output_type": "stream",
     "text": [
      "Accuracy = 10.7807% (203/1883) (classification)\n"
     ]
    }
   ],
   "source": [
    "x1_lab, x1_acc, x1_val = svm_predict(y_test, x1_test, model1)"
   ]
  },
  {
   "cell_type": "code",
   "execution_count": 83,
   "metadata": {},
   "outputs": [
    {
     "name": "stdout",
     "output_type": "stream",
     "text": [
      "Accuracy = 16.6755% (314/1883) (classification)\n"
     ]
    }
   ],
   "source": [
    "x2_lab, x2_acc, x2_val = svm_predict(y_test, x2_test, model2)"
   ]
  },
  {
   "cell_type": "code",
   "execution_count": 84,
   "metadata": {},
   "outputs": [
    {
     "name": "stdout",
     "output_type": "stream",
     "text": [
      "Accuracy = 8.92193% (168/1883) (classification)\n"
     ]
    }
   ],
   "source": [
    "x3_lab, x3_acc, x3_val = svm_predict(y_test, x3_test, model3)"
   ]
  },
  {
   "cell_type": "code",
   "execution_count": 85,
   "metadata": {},
   "outputs": [],
   "source": [
    "#Step 0.2 Adding -b 1 option parameter\n",
    "model1 = svm_train(problem1,'-c 10 -t 0 -b 1')\n",
    "model2 = svm_train(problem2, '-c 10 -t 0 -b 1')\n",
    "model3 = svm_train(problem3, '-c 10 -t 0 -b 1')"
   ]
  },
  {
   "cell_type": "code",
   "execution_count": 86,
   "metadata": {},
   "outputs": [
    {
     "name": "stdout",
     "output_type": "stream",
     "text": [
      "Accuracy = 27.7748% (523/1883) (classification)\n"
     ]
    }
   ],
   "source": [
    "x1_lab, x1_acc, x1_val = svm_predict(y_test, x1_test, model1,'-b 1')"
   ]
  },
  {
   "cell_type": "code",
   "execution_count": 87,
   "metadata": {},
   "outputs": [
    {
     "name": "stdout",
     "output_type": "stream",
     "text": [
      "Accuracy = 27.4562% (517/1883) (classification)\n"
     ]
    }
   ],
   "source": [
    "x2_lab, x2_acc, x2_val = svm_predict(y_test, x2_test, model2,'-b 1')"
   ]
  },
  {
   "cell_type": "code",
   "execution_count": 88,
   "metadata": {},
   "outputs": [
    {
     "name": "stdout",
     "output_type": "stream",
     "text": [
      "Accuracy = 28.6245% (539/1883) (classification)\n"
     ]
    }
   ],
   "source": [
    "x3_lab, x3_acc, x3_val = svm_predict(y_test, x3_test, model3,'-b 1')"
   ]
  },
  {
   "cell_type": "code",
   "execution_count": 114,
   "metadata": {},
   "outputs": [],
   "source": [
    "#Step 1 Feature combination by fusion of classifiers\n",
    "prob_combined = np.zeros((len(x1_val),50))\n",
    "for i in range(len(x1_val)):\n",
    "    for j in range(len(x1_val[0])):\n",
    "        prob_combined[i][j] = (x1_val[i][j] + x2_val[i][j]+ x3_val[i][j])/3\n",
    "        \n",
    "label_combined = np.zeros(len(x1_val))\n",
    "for i in range(len(label_combined)):\n",
    "    label_combined[i] = np.argmax(prob_combined[i])+1    "
   ]
  },
  {
   "cell_type": "code",
   "execution_count": 115,
   "metadata": {},
   "outputs": [
    {
     "name": "stdout",
     "output_type": "stream",
     "text": [
      "Accuracy =  44.503451938396175 %\n"
     ]
    }
   ],
   "source": [
    "correct_Classifications= 0\n",
    "for i in range(len(y_test)):\n",
    "    if y_test[i] == predicted_labels_feature_comb[i]:\n",
    "        correct_Classifications+=1\n",
    "\n",
    "print(\"Accuracy = \" ,correct_Classifications*100/len(y_test),\"%\")"
   ]
  },
  {
   "cell_type": "code",
   "execution_count": 91,
   "metadata": {},
   "outputs": [],
   "source": [
    "#Step 2 Feature combination by simple concatenation.\n",
    "x_train  = np.concatenate((x1_train, x2_train, x3_train),axis=1)\n",
    "x_test  = np.concatenate((x1_test, x2_test, x3_test),axis=1)"
   ]
  },
  {
   "cell_type": "code",
   "execution_count": 92,
   "metadata": {},
   "outputs": [],
   "source": [
    "problem = svm_problem(y_train, x_train)"
   ]
  },
  {
   "cell_type": "code",
   "execution_count": 93,
   "metadata": {},
   "outputs": [],
   "source": [
    "model = svm_train(problem,'-c 10 -t 0')"
   ]
  },
  {
   "cell_type": "code",
   "execution_count": 101,
   "metadata": {},
   "outputs": [
    {
     "name": "stdout",
     "output_type": "stream",
     "text": [
      "Accuracy = 37.0685% (698/1883) (classification)\n"
     ]
    }
   ],
   "source": [
    "x_lab, x_acc, x_val = svm_predict(y_test,x_test,model)"
   ]
  },
  {
   "cell_type": "code",
   "execution_count": null,
   "metadata": {},
   "outputs": [],
   "source": []
  }
 ],
 "metadata": {
  "kernelspec": {
   "display_name": "Python 3",
   "language": "python",
   "name": "python3"
  },
  "language_info": {
   "codemirror_mode": {
    "name": "ipython",
    "version": 3
   },
   "file_extension": ".py",
   "mimetype": "text/x-python",
   "name": "python",
   "nbconvert_exporter": "python",
   "pygments_lexer": "ipython3",
   "version": "3.8.5"
  }
 },
 "nbformat": 4,
 "nbformat_minor": 4
}
