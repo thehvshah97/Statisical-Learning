{
 "cells": [
  {
   "cell_type": "code",
   "execution_count": 274,
   "metadata": {},
   "outputs": [],
   "source": [
    "import scipy.io\n",
    "import numpy as np\n",
    "import pandas as pd\n",
    "from scipy.stats import multivariate_normal\n",
    "from scipy.stats import skew\n",
    "import matplotlib.pyplot as plt\n",
    "import matplotlib.image as mpimg"
   ]
  },
  {
   "cell_type": "code",
   "execution_count": 317,
   "metadata": {},
   "outputs": [],
   "source": [
    "#load training data\n",
    "training_data = scipy.io.loadmat(\"train_data.mat\")\n",
    "training_data_images = training_data[\"data\"]\n",
    "training_data_labels = np.array(training_data[\"label\"][0])\n",
    "\n",
    "#load testing data\n",
    "testing_data = scipy.io.loadmat(\"test_data.mat\")\n",
    "testing_data_images = testing_data[\"data\"]\n",
    "testing_data_labels = np.array(testing_data[\"label\"][0])"
   ]
  },
  {
   "cell_type": "code",
   "execution_count": 318,
   "metadata": {},
   "outputs": [
    {
     "data": {
      "image/png": "[encoded data removed]",
      "text/plain": [
       "<Figure size 432x288 with 1 Axes>"
      ]
     },
     "metadata": {
      "needs_background": "light"
     },
     "output_type": "display_data"
    }
   ],
   "source": [
    "#sample image\n",
    "imgplot = plt.imshow(training_data_images[0])"
   ]
  },
  {
   "cell_type": "code",
   "execution_count": 319,
   "metadata": {},
   "outputs": [],
   "source": [
    "#flatten images to form a 784 dim array\n",
    "training_data_images = np.reshape(training_data_images, (len(training_data_images), 784))\n",
    "l, b = np.shape(training_data_images)\n",
    "testing_data_images = np.reshape(testing_data_images, (len(testing_data_images), 784))"
   ]
  },
  {
   "cell_type": "code",
   "execution_count": 320,
   "metadata": {},
   "outputs": [],
   "source": [
    "#calculate Skewness Method to check the skewness values\n",
    "skewness = []\n",
    "for i in range(l):\n",
    "    skewness.append(skew(training_data_images[i], axis = 0))\n",
    "    \n",
    "skewness_Test = []\n",
    "for i in range(len(testing_data_images)):\n",
    "    skewness_Test.append(skew(testing_data_images[i], axis = 0))"
   ]
  },
  {
   "cell_type": "code",
   "execution_count": 321,
   "metadata": {},
   "outputs": [],
   "source": [
    "#calculate Skewness written function\n",
    "s = []\n",
    "for img in training_data_images:\n",
    "    mean_img = np.mean(img)\n",
    "    sd_img = np.std(img)\n",
    "    img = (img-mean_img)**3\n",
    "    s.append(np.mean(img)/sd_img**3)\n",
    "\n",
    "    \n",
    "#calculate skewness for Testing data\n",
    "s_t = []\n",
    "for img in testing_data_images:\n",
    "    mean_img = np.mean(img)\n",
    "    sd_img = np.std(img)\n",
    "    img = (img-mean_img)**3\n",
    "    s_t.append(np.mean(img)/sd_img**3)\n",
    "\n",
    "#Calculate values for normalization \n",
    "M1 = np.mean(s)\n",
    "S1 = np.std(s)\n",
    "\n",
    "#normalized feature\n",
    "s = (s-M1)/S1\n",
    "s_t = (s_t-M1)/S1"
   ]
  },
  {
   "cell_type": "code",
   "execution_count": 322,
   "metadata": {},
   "outputs": [],
   "source": [
    "#Task 4\n",
    "#Case 1: T=150; Case 2: T=200\n",
    "T = 150"
   ]
  },
  {
   "cell_type": "code",
   "execution_count": 323,
   "metadata": {},
   "outputs": [],
   "source": [
    "#calculate brightness\n",
    "def calculate_intensity(img, threshold):\n",
    "    bright_pixels = 0\n",
    "    for x in range(784):\n",
    "        if img[x]>threshold:\n",
    "            bright_pixels+=1\n",
    "    return bright_pixels/(748-bright_pixels)"
   ]
  },
  {
   "cell_type": "code",
   "execution_count": 324,
   "metadata": {},
   "outputs": [],
   "source": [
    "#calculate brightness for images\n",
    "bright_ratio=[]\n",
    "for img in training_data_images:\n",
    "    bright_ratio.append(calculate_intensity(img, T))\n",
    "\n",
    "#calculate brightness for testing images\n",
    "bright_ratio_t=[]\n",
    "for img in testing_data_images:\n",
    "    bright_ratio_t.append(calculate_intensity(img, T))\n",
    "    \n",
    "#Calculate values for normalization \n",
    "M2 = np.mean(bright_ratio)\n",
    "S2 = np.std(bright_ratio)\n",
    "\n",
    "#normalized feature\n",
    "bright_ratio = (bright_ratio-M2)/S2\n",
    "bright_ratio_t = (bright_ratio_t-M2)/S2"
   ]
  },
  {
   "cell_type": "code",
   "execution_count": 325,
   "metadata": {},
   "outputs": [
    {
     "name": "stdout",
     "output_type": "stream",
     "text": [
      "       skewness  brightness  label\n",
      "0     -0.312630   -0.053448      3\n",
      "1      0.965460   -0.846922      3\n",
      "2      0.516517   -0.814982      3\n",
      "3      0.297382   -0.490324      3\n",
      "4      1.906885   -1.436391      3\n",
      "...         ...         ...    ...\n",
      "11543  1.135147   -0.942180      7\n",
      "11544  0.841204   -0.846922      7\n",
      "11545  0.754219   -0.942180      7\n",
      "11546  0.232806   -0.324323      7\n",
      "11547 -0.268342    0.119234      7\n",
      "\n",
      "[11548 rows x 3 columns]\n",
      "      skewness  brightness  label\n",
      "0    -1.267680    1.290567      3\n",
      "1    -0.520284    0.294593      3\n",
      "2    -1.277741    1.484635      3\n",
      "3    -2.033069    3.114399      3\n",
      "4    -0.208492   -0.223514      3\n",
      "...        ...         ...    ...\n",
      "2881 -1.193159    1.252130      7\n",
      "2882  0.229900   -0.223514      7\n",
      "2883  1.042951   -0.973746      7\n",
      "2884 -0.128389    0.119234      7\n",
      "2885  1.605895   -1.253740      7\n",
      "\n",
      "[2886 rows x 3 columns]\n"
     ]
    },
    {
     "data": {
      "image/png": "[encoded data removed]",
      "text/plain": [
       "<Figure size 432x288 with 1 Axes>"
      ]
     },
     "metadata": {
      "needs_background": "light"
     },
     "output_type": "display_data"
    }
   ],
   "source": [
    "df = pd.DataFrame()\n",
    "df['skewness'] = s\n",
    "df['brightness'] = bright_ratio\n",
    "df['label'] = training_data_labels\n",
    "print(df)\n",
    "\n",
    "groups = df.groupby('label')\n",
    "for name, group in groups:\n",
    "    plt.plot(group.skewness, group.brightness, marker='o', linestyle='', markersize=0.5, label=name)\n",
    "\n",
    "plt.xlabel(\"Skewness of image\")\n",
    "plt.ylabel(\"Intensity of image\")\n",
    "plt.legend()\n",
    "\n",
    "normalized_features = []\n",
    "for i in range(len(s)):\n",
    "    normalized_features.append([s[i],bright_ratio[i]])\n",
    "\n",
    "#dataframe and normalized feaeture for testing images\n",
    "df_t = pd.DataFrame()\n",
    "df_t['skewness'] = s_t\n",
    "df_t['brightness'] = bright_ratio_t\n",
    "df_t['label'] = testing_data_labels\n",
    "print(df_t)\n",
    "\n",
    "normalized_features_t = []\n",
    "for i in range(len(s_t)):\n",
    "    normalized_features_t.append([s_t[i],bright_ratio_t[i]])"
   ]
  },
  {
   "cell_type": "code",
   "execution_count": 326,
   "metadata": {},
   "outputs": [],
   "source": [
    "training_three = []\n",
    "training_seven = []\n",
    "for x in range(len(normalized_features)):\n",
    "    if training_data_labels[x]==3:\n",
    "        training_three.append(normalized_features[x])\n",
    "    else:\n",
    "        training_seven.append(normalized_features[x])"
   ]
  },
  {
   "cell_type": "code",
   "execution_count": 327,
   "metadata": {},
   "outputs": [],
   "source": [
    "mean3 = np.mean(training_three,axis=0)\n",
    "mean7 = np.mean(training_seven,axis=0)\n",
    "cov3 = np.matmul((training_three-mean3).T,(training_three-mean3))/len(training_three)\n",
    "cov7 = np.matmul((training_seven-mean7).T,(training_seven-mean7))/len(training_seven)\n",
    "\n",
    "#distributions for training images\n",
    "pdf3 = multivariate_normal.pdf(normalized_features, mean=mean3, cov=cov3)\n",
    "pdf7 = multivariate_normal.pdf(normalized_features, mean=mean7, cov=cov7)\n",
    "\n",
    "#distributions for testing images\n",
    "pdf3_t = multivariate_normal.pdf(normalized_features_t, mean=mean3, cov=cov3)\n",
    "pdf7_t = multivariate_normal.pdf(normalized_features_t, mean=mean7, cov=cov7)"
   ]
  },
  {
   "cell_type": "code",
   "execution_count": 328,
   "metadata": {},
   "outputs": [],
   "source": [
    "#Task 3\n",
    "#Case1: p(3) = 0.5, p(7) = 0.5; p(3) = 0.3, p(7) = 0.7 \n",
    "p3 = 0.5\n",
    "p7 = 0.5"
   ]
  },
  {
   "cell_type": "code",
   "execution_count": 329,
   "metadata": {
    "scrolled": false
   },
   "outputs": [
    {
     "name": "stdout",
     "output_type": "stream",
     "text": [
      "34.47350190509179\n"
     ]
    }
   ],
   "source": [
    "#Estimation on Training Data\n",
    "likelihood3 = pdf3*p3\n",
    "likelihood7 = pdf7*p7\n",
    "\n",
    "result = []\n",
    "for i in range(len(normalized_features)):\n",
    "    if likelihood3[i]>likelihood7[i]:\n",
    "        result.append(3)\n",
    "    else:\n",
    "        result.append(7)\n",
    "df['likelihood3'] = likelihood3\n",
    "df['likelihood7'] = likelihood7\n",
    "df['result'] = result\n",
    "correctPredictions = 0\n",
    "for i in range(len(df)):\n",
    "    if df['label'][i] == df['result'][i]:\n",
    "        correctPredictions+=1\n",
    "\n",
    "ErrorRate = (1-(correctPredictions/len(normalized_features)))*100\n",
    "print(ErrorRate)"
   ]
  },
  {
   "cell_type": "code",
   "execution_count": 330,
   "metadata": {},
   "outputs": [
    {
     "name": "stdout",
     "output_type": "stream",
     "text": [
      "33.61053361053361\n"
     ]
    }
   ],
   "source": [
    "#Estimation on Testing Data\n",
    "#Case1: p(3) = 0.5, p(7) = 0.5; p(3) = 0.3, p(7) = 0.7 \n",
    "likelihood3 = pdf3_t*p3\n",
    "likelihood7 = pdf7_t*p7\n",
    "\n",
    "result = []\n",
    "for i in range(len(normalized_features_t)):\n",
    "    if likelihood3[i]>likelihood7[i]:\n",
    "        result.append(3)\n",
    "    else:\n",
    "        result.append(7)\n",
    "df_t['likelihood3'] = likelihood3\n",
    "df_t['likelihood7'] = likelihood7\n",
    "df_t['result'] = result\n",
    "\n",
    "correctPredictions = 0\n",
    "for i in range(len(df_t)):\n",
    "    if df_t['label'][i] == df_t['result'][i]:\n",
    "        correctPredictions+=1\n",
    "ErrorRate = (1-(correctPredictions/len(normalized_features_t)))*100\n",
    "print(ErrorRate)"
   ]
  },
  {
   "cell_type": "code",
   "execution_count": null,
   "metadata": {},
   "outputs": [],
   "source": []
  }
 ],
 "metadata": {
  "kernelspec": {
   "display_name": "Python 3",
   "language": "python",
   "name": "python3"
  },
  "language_info": {
   "codemirror_mode": {
    "name": "ipython",
    "version": 3
   },
   "file_extension": ".py",
   "mimetype": "text/x-python",
   "name": "python",
   "nbconvert_exporter": "python",
   "pygments_lexer": "ipython3",
   "version": "3.8.5"
  }
 },
 "nbformat": 4,
 "nbformat_minor": 4
}
