{
  "nbformat": 4,
  "nbformat_minor": 0,
  "metadata": {
    "colab": {
      "provenance": []
    },
    "kernelspec": {
      "name": "python3",
      "display_name": "Python 3"
    },
    "language_info": {
      "name": "python"
    },
    "accelerator": "GPU",
    "gpuClass": "standard"
  },
  "cells": [
    {
      "cell_type": "code",
      "metadata": {
        "id": "njjbgQXJI-Ez"
      },
      "source": [
        "from tensorflow import keras\n",
        "from keras.datasets import cifar10\n",
        "from keras.models import Sequential\n",
        "from keras.layers import Dense, Conv2D, MaxPooling2D, AveragePooling2D, Flatten, Dropout, BatchNormalization, Activation\n",
        "from keras import backend as K\n",
        "from tensorflow.keras.utils import to_categorical"
      ],
      "execution_count": null,
      "outputs": []
    },
    {
      "cell_type": "code",
      "metadata": {
        "id": "Fcn8TffZJLVM"
      },
      "source": [
        "batch_size = 64\n",
        "num_classes = 10\n",
        "epochs = 50"
      ],
      "execution_count": null,
      "outputs": []
    },
    {
      "cell_type": "code",
      "metadata": {
        "id": "aDKabmGIJNHj",
        "colab": {
          "base_uri": "https://localhost:8080/"
        },
        "outputId": "bbabded7-b1b0-4307-8d6f-bb3113452447"
      },
      "source": [
        "#  input image dimensions\n",
        "img_rows, img_cols = 32, 32\n",
        "# the data, split between train and test sets\n",
        "(x_train, y_train), (x_test, y_test) = cifar10.load_data()\n",
        "if K.image_data_format() == 'channels_first':\n",
        "  x_train = x_train.reshape(x_train.shape[0], 3, img_rows, img_cols)\n",
        "  x_test = x_test.reshape(x_test.shape[0], 3, img_rows, img_cols)\n",
        "  input_shape = (3, img_rows, img_cols)\n",
        "else:\n",
        "  x_train = x_train.reshape(x_train.shape[0], img_rows, img_cols, 3)\n",
        "  x_test = x_test.reshape(x_test.shape[0], img_rows, img_cols, 3)\n",
        "  input_shape = (img_rows, img_cols, 3)"
      ],
      "execution_count": null,
      "outputs": [
        {
          "output_type": "stream",
          "name": "stdout",
          "text": [
            "Downloading data from https://www.cs.toronto.edu/~kriz/cifar-10-python.tar.gz\n",
            "170498071/170498071 [==============================] - 14s 0us/step\n"
          ]
        }
      ]
    },
    {
      "cell_type": "code",
      "metadata": {
        "id": "PjSWJUwfJU8E",
        "colab": {
          "base_uri": "https://localhost:8080/"
        },
        "outputId": "eeeb595f-789f-4345-ce76-ac3df4b81f33"
      },
      "source": [
        "x_train = x_train.astype('float32')\n",
        "x_test = x_test.astype('float32')\n",
        "x_train /= 255\n",
        "x_test /= 255\n",
        "print('x_train shape:', x_train.shape)\n",
        "print(x_train.shape[0], 'training samples')\n",
        "print(x_test.shape[0], 'testing samples')\n",
        "\n",
        "# convert class vectors to binary class matrices\n",
        "y_train = to_categorical(y_train, num_classes)\n",
        "y_test = to_categorical(y_test, num_classes)"
      ],
      "execution_count": null,
      "outputs": [
        {
          "output_type": "stream",
          "name": "stdout",
          "text": [
            "x_train shape: (50000, 32, 32, 3)\n",
            "50000 training samples\n",
            "10000 testing samples\n"
          ]
        }
      ]
    },
    {
      "cell_type": "markdown",
      "source": [
        "Step 1: Running the Original File"
      ],
      "metadata": {
        "id": "5mJvhv_hmjne"
      }
    },
    {
      "cell_type": "code",
      "metadata": {
        "id": "IMupwjnAJW1J"
      },
      "source": [
        "model = Sequential()\n",
        "model.add(Conv2D(filters = 32, kernel_size = (3,3), padding='same', input_shape = input_shape))\n",
        "model.add(Activation('relu'))\n",
        "model.add(BatchNormalization())\n",
        "model.add(Conv2D(filters = 32, kernel_size = (3,3), padding='same'))\n",
        "model.add(Activation('relu'))\n",
        "model.add(BatchNormalization())\n",
        "model.add(MaxPooling2D(2,2))\n",
        "model.add(Dropout(0.2))\n",
        "\n",
        "model.add(Conv2D(filters = 64, kernel_size = (3,3), padding='same'))\n",
        "model.add(Activation('relu'))\n",
        "model.add(BatchNormalization())\n",
        "model.add(Conv2D(filters = 64, kernel_size = (3,3), padding='same'))\n",
        "model.add(Activation('relu'))\n",
        "model.add(BatchNormalization())\n",
        "model.add(MaxPooling2D(2,2))\n",
        "model.add(Dropout(0.3))\n",
        "\n",
        "model.add(Conv2D(filters = 128, kernel_size = (3,3), padding='same'))\n",
        "model.add(Activation('relu'))\n",
        "model.add(BatchNormalization())\n",
        "model.add(Conv2D(filters = 128, kernel_size = (3,3), padding='same'))\n",
        "model.add(Activation('relu'))\n",
        "model.add(BatchNormalization())\n",
        "model.add(MaxPooling2D(2,2))\n",
        "model.add(Dropout(0.4))\n",
        "\n",
        "model.add(Flatten())\n",
        "\n",
        "model.add(Dense(units = 10, activation = 'softmax'))"
      ],
      "execution_count": null,
      "outputs": []
    },
    {
      "cell_type": "code",
      "metadata": {
        "id": "g4rC8aZKJbgT",
        "colab": {
          "base_uri": "https://localhost:8080/"
        },
        "outputId": "46435d3f-02b7-43a3-9198-453fc8a8c88f"
      },
      "source": [
        "# https://keras.io/optimizers/\n",
        "model.compile(loss=keras.losses.categorical_crossentropy, optimizer=keras.optimizers.Adam(lr=0.01), metrics=['accuracy'])"
      ],
      "execution_count": null,
      "outputs": [
        {
          "output_type": "stream",
          "name": "stderr",
          "text": [
            "/usr/local/lib/python3.8/dist-packages/keras/optimizers/optimizer_v2/adam.py:110: UserWarning: The `lr` argument is deprecated, use `learning_rate` instead.\n",
            "  super(Adam, self).__init__(name, **kwargs)\n"
          ]
        }
      ]
    },
    {
      "cell_type": "code",
      "metadata": {
        "id": "UAPwRRVtJfVO",
        "colab": {
          "base_uri": "https://localhost:8080/"
        },
        "outputId": "8e0e99a3-8087-414d-a9b9-57c67a7e2e4f"
      },
      "source": [
        "model.fit(x_train, y_train, batch_size=batch_size, epochs=epochs, verbose=1, validation_data=(x_test, y_test))\n",
        "score = model.evaluate(x_test, y_test, verbose=0)\n",
        "print('Test loss:', score[0])\n",
        "print('Test accuracy:', score[1])"
      ],
      "execution_count": null,
      "outputs": [
        {
          "output_type": "stream",
          "name": "stdout",
          "text": [
            "Epoch 1/50\n",
            "782/782 [==============================] - 18s 11ms/step - loss: 2.0659 - accuracy: 0.3858 - val_loss: 2.5074 - val_accuracy: 0.2845\n",
            "Epoch 2/50\n",
            "782/782 [==============================] - 8s 10ms/step - loss: 1.2259 - accuracy: 0.5596 - val_loss: 1.1425 - val_accuracy: 0.5964\n",
            "Epoch 3/50\n",
            "782/782 [==============================] - 8s 10ms/step - loss: 1.0070 - accuracy: 0.6446 - val_loss: 1.0123 - val_accuracy: 0.6429\n",
            "Epoch 4/50\n",
            "782/782 [==============================] - 8s 10ms/step - loss: 0.8841 - accuracy: 0.6896 - val_loss: 0.9244 - val_accuracy: 0.6921\n",
            "Epoch 5/50\n",
            "782/782 [==============================] - 8s 10ms/step - loss: 0.8109 - accuracy: 0.7157 - val_loss: 0.7952 - val_accuracy: 0.7282\n",
            "Epoch 6/50\n",
            "782/782 [==============================] - 8s 10ms/step - loss: 0.7486 - accuracy: 0.7390 - val_loss: 0.8562 - val_accuracy: 0.7103\n",
            "Epoch 7/50\n",
            "782/782 [==============================] - 8s 10ms/step - loss: 0.7150 - accuracy: 0.7525 - val_loss: 0.7664 - val_accuracy: 0.7471\n",
            "Epoch 8/50\n",
            "782/782 [==============================] - 8s 11ms/step - loss: 0.6854 - accuracy: 0.7623 - val_loss: 0.7158 - val_accuracy: 0.7604\n",
            "Epoch 9/50\n",
            "782/782 [==============================] - 8s 10ms/step - loss: 0.6507 - accuracy: 0.7758 - val_loss: 0.7109 - val_accuracy: 0.7621\n",
            "Epoch 10/50\n",
            "782/782 [==============================] - 8s 10ms/step - loss: 0.6270 - accuracy: 0.7850 - val_loss: 0.7023 - val_accuracy: 0.7596\n",
            "Epoch 11/50\n",
            "782/782 [==============================] - 8s 10ms/step - loss: 0.6077 - accuracy: 0.7904 - val_loss: 0.7146 - val_accuracy: 0.7622\n",
            "Epoch 12/50\n",
            "782/782 [==============================] - 8s 11ms/step - loss: 0.5927 - accuracy: 0.7970 - val_loss: 0.5603 - val_accuracy: 0.8093\n",
            "Epoch 13/50\n",
            "782/782 [==============================] - 8s 10ms/step - loss: 0.5677 - accuracy: 0.8037 - val_loss: 0.7774 - val_accuracy: 0.7562\n",
            "Epoch 14/50\n",
            "782/782 [==============================] - 8s 10ms/step - loss: 0.5527 - accuracy: 0.8107 - val_loss: 0.6788 - val_accuracy: 0.7746\n",
            "Epoch 15/50\n",
            "782/782 [==============================] - 8s 10ms/step - loss: 0.5332 - accuracy: 0.8194 - val_loss: 0.7046 - val_accuracy: 0.7851\n",
            "Epoch 16/50\n",
            "782/782 [==============================] - 8s 10ms/step - loss: 0.5248 - accuracy: 0.8212 - val_loss: 0.5796 - val_accuracy: 0.8142\n",
            "Epoch 17/50\n",
            "782/782 [==============================] - 8s 10ms/step - loss: 0.5041 - accuracy: 0.8269 - val_loss: 0.5951 - val_accuracy: 0.8080\n",
            "Epoch 18/50\n",
            "782/782 [==============================] - 8s 10ms/step - loss: 0.4946 - accuracy: 0.8312 - val_loss: 0.5538 - val_accuracy: 0.8207\n",
            "Epoch 19/50\n",
            "782/782 [==============================] - 8s 10ms/step - loss: 0.4819 - accuracy: 0.8365 - val_loss: 0.5261 - val_accuracy: 0.8261\n",
            "Epoch 20/50\n",
            "782/782 [==============================] - 8s 10ms/step - loss: 0.4752 - accuracy: 0.8378 - val_loss: 0.5576 - val_accuracy: 0.8235\n",
            "Epoch 21/50\n",
            "782/782 [==============================] - 8s 10ms/step - loss: 0.4627 - accuracy: 0.8427 - val_loss: 0.5714 - val_accuracy: 0.8141\n",
            "Epoch 22/50\n",
            "782/782 [==============================] - 8s 10ms/step - loss: 0.4541 - accuracy: 0.8446 - val_loss: 0.5468 - val_accuracy: 0.8238\n",
            "Epoch 23/50\n",
            "782/782 [==============================] - 8s 10ms/step - loss: 0.4511 - accuracy: 0.8466 - val_loss: 0.5443 - val_accuracy: 0.8279\n",
            "Epoch 24/50\n",
            "782/782 [==============================] - 8s 10ms/step - loss: 0.4328 - accuracy: 0.8531 - val_loss: 0.6458 - val_accuracy: 0.8058\n",
            "Epoch 25/50\n",
            "782/782 [==============================] - 8s 10ms/step - loss: 0.4289 - accuracy: 0.8540 - val_loss: 0.6066 - val_accuracy: 0.8088\n",
            "Epoch 26/50\n",
            "782/782 [==============================] - 8s 10ms/step - loss: 0.4260 - accuracy: 0.8550 - val_loss: 0.5456 - val_accuracy: 0.8310\n",
            "Epoch 27/50\n",
            "782/782 [==============================] - 8s 10ms/step - loss: 0.4103 - accuracy: 0.8604 - val_loss: 0.5526 - val_accuracy: 0.8306\n",
            "Epoch 28/50\n",
            "782/782 [==============================] - 8s 10ms/step - loss: 0.4136 - accuracy: 0.8600 - val_loss: 0.5756 - val_accuracy: 0.8319\n",
            "Epoch 29/50\n",
            "782/782 [==============================] - 8s 10ms/step - loss: 0.4055 - accuracy: 0.8623 - val_loss: 0.5815 - val_accuracy: 0.8305\n",
            "Epoch 30/50\n",
            "782/782 [==============================] - 8s 11ms/step - loss: 0.3958 - accuracy: 0.8657 - val_loss: 0.5002 - val_accuracy: 0.8409\n",
            "Epoch 31/50\n",
            "782/782 [==============================] - 8s 10ms/step - loss: 0.3914 - accuracy: 0.8659 - val_loss: 0.5672 - val_accuracy: 0.8202\n",
            "Epoch 32/50\n",
            "782/782 [==============================] - 8s 10ms/step - loss: 0.3859 - accuracy: 0.8690 - val_loss: 0.5378 - val_accuracy: 0.8384\n",
            "Epoch 33/50\n",
            "782/782 [==============================] - 8s 10ms/step - loss: 0.3751 - accuracy: 0.8725 - val_loss: 0.5864 - val_accuracy: 0.8253\n",
            "Epoch 34/50\n",
            "782/782 [==============================] - 8s 10ms/step - loss: 0.3792 - accuracy: 0.8720 - val_loss: 0.6248 - val_accuracy: 0.8224\n",
            "Epoch 35/50\n",
            "782/782 [==============================] - 8s 10ms/step - loss: 0.3664 - accuracy: 0.8757 - val_loss: 0.5383 - val_accuracy: 0.8361\n",
            "Epoch 36/50\n",
            "782/782 [==============================] - 8s 10ms/step - loss: 0.3662 - accuracy: 0.8765 - val_loss: 0.4975 - val_accuracy: 0.8433\n",
            "Epoch 37/50\n",
            "782/782 [==============================] - 8s 11ms/step - loss: 0.3633 - accuracy: 0.8772 - val_loss: 0.5798 - val_accuracy: 0.8385\n",
            "Epoch 38/50\n",
            "782/782 [==============================] - 8s 10ms/step - loss: 0.3555 - accuracy: 0.8793 - val_loss: 0.5711 - val_accuracy: 0.8245\n",
            "Epoch 39/50\n",
            "782/782 [==============================] - 8s 10ms/step - loss: 0.3529 - accuracy: 0.8805 - val_loss: 0.5551 - val_accuracy: 0.8465\n",
            "Epoch 40/50\n",
            "782/782 [==============================] - 8s 10ms/step - loss: 0.3562 - accuracy: 0.8805 - val_loss: 0.5428 - val_accuracy: 0.8440\n",
            "Epoch 41/50\n",
            "782/782 [==============================] - 8s 10ms/step - loss: 0.3431 - accuracy: 0.8834 - val_loss: 0.6048 - val_accuracy: 0.8285\n",
            "Epoch 42/50\n",
            "782/782 [==============================] - 8s 10ms/step - loss: 0.3443 - accuracy: 0.8839 - val_loss: 0.5172 - val_accuracy: 0.8446\n",
            "Epoch 43/50\n",
            "782/782 [==============================] - 8s 10ms/step - loss: 0.3428 - accuracy: 0.8857 - val_loss: 0.5066 - val_accuracy: 0.8505\n",
            "Epoch 44/50\n",
            "782/782 [==============================] - 8s 10ms/step - loss: 0.3272 - accuracy: 0.8901 - val_loss: 0.5701 - val_accuracy: 0.8381\n",
            "Epoch 45/50\n",
            "782/782 [==============================] - 8s 10ms/step - loss: 0.3313 - accuracy: 0.8871 - val_loss: 0.6241 - val_accuracy: 0.8355\n",
            "Epoch 46/50\n",
            "782/782 [==============================] - 8s 10ms/step - loss: 0.3267 - accuracy: 0.8899 - val_loss: 0.5510 - val_accuracy: 0.8415\n",
            "Epoch 47/50\n",
            "782/782 [==============================] - 8s 10ms/step - loss: 0.3267 - accuracy: 0.8899 - val_loss: 0.5877 - val_accuracy: 0.8393\n",
            "Epoch 48/50\n",
            "782/782 [==============================] - 8s 10ms/step - loss: 0.3242 - accuracy: 0.8913 - val_loss: 0.5406 - val_accuracy: 0.8403\n",
            "Epoch 49/50\n",
            "782/782 [==============================] - 8s 10ms/step - loss: 0.3187 - accuracy: 0.8941 - val_loss: 0.5799 - val_accuracy: 0.8372\n",
            "Epoch 50/50\n",
            "782/782 [==============================] - 8s 11ms/step - loss: 0.3122 - accuracy: 0.8954 - val_loss: 0.5882 - val_accuracy: 0.8350\n",
            "Test loss: 0.5881706476211548\n",
            "Test accuracy: 0.8349999785423279\n"
          ]
        }
      ]
    },
    {
      "cell_type": "markdown",
      "source": [
        "Step 2.1: Changing the learning rate to 0.05"
      ],
      "metadata": {
        "id": "FlwAFKkG3lv1"
      }
    },
    {
      "cell_type": "code",
      "source": [
        "model2 = Sequential()\n",
        "model2.add(Conv2D(filters = 32, kernel_size = (3,3), padding='same', input_shape = input_shape))\n",
        "model2.add(Activation('relu'))\n",
        "model2.add(BatchNormalization())\n",
        "model2.add(Conv2D(filters = 32, kernel_size = (3,3), padding='same'))\n",
        "model2.add(Activation('relu'))\n",
        "model2.add(BatchNormalization())\n",
        "model2.add(MaxPooling2D(2,2))\n",
        "model2.add(Dropout(0.2))\n",
        "\n",
        "model2.add(Conv2D(filters = 64, kernel_size = (3,3), padding='same'))\n",
        "model2.add(Activation('relu'))\n",
        "model2.add(BatchNormalization())\n",
        "model2.add(Conv2D(filters = 64, kernel_size = (3,3), padding='same'))\n",
        "model2.add(Activation('relu'))\n",
        "model2.add(BatchNormalization())\n",
        "model2.add(MaxPooling2D(2,2))\n",
        "model2.add(Dropout(0.3))\n",
        "\n",
        "model2.add(Conv2D(filters = 128, kernel_size = (3,3), padding='same'))\n",
        "model2.add(Activation('relu'))\n",
        "model2.add(BatchNormalization())\n",
        "model2.add(Conv2D(filters = 128, kernel_size = (3,3), padding='same'))\n",
        "model2.add(Activation('relu'))\n",
        "model2.add(BatchNormalization())\n",
        "model2.add(MaxPooling2D(2,2))\n",
        "model2.add(Dropout(0.4))\n",
        "\n",
        "model2.add(Flatten())\n",
        "\n",
        "model2.add(Dense(units = 10, activation = 'softmax'))"
      ],
      "metadata": {
        "id": "bgd9BvbZptwZ"
      },
      "execution_count": null,
      "outputs": []
    },
    {
      "cell_type": "code",
      "source": [
        "# https://keras.io/optimizers/\n",
        "model2.compile(loss=keras.losses.categorical_crossentropy, optimizer=keras.optimizers.Adam(lr=0.05), metrics=['accuracy'])"
      ],
      "metadata": {
        "colab": {
          "base_uri": "https://localhost:8080/"
        },
        "id": "FYy3_GlmrQtI",
        "outputId": "41860a87-7010-47f1-bb80-7b03f0c317a9"
      },
      "execution_count": null,
      "outputs": [
        {
          "output_type": "stream",
          "name": "stderr",
          "text": [
            "/usr/local/lib/python3.8/dist-packages/keras/optimizers/optimizer_v2/adam.py:110: UserWarning: The `lr` argument is deprecated, use `learning_rate` instead.\n",
            "  super(Adam, self).__init__(name, **kwargs)\n"
          ]
        }
      ]
    },
    {
      "cell_type": "code",
      "source": [
        "model2.fit(x_train, y_train, batch_size=batch_size, epochs=epochs, verbose=1, validation_data=(x_test, y_test))\n",
        "score = model2.evaluate(x_test, y_test, verbose=0)\n",
        "print('Test loss:', score[0])\n",
        "print('Test accuracy:', score[1])"
      ],
      "metadata": {
        "colab": {
          "base_uri": "https://localhost:8080/"
        },
        "id": "7-Fyk8PprTK4",
        "outputId": "d050244c-ee26-424c-c4b6-6f9966095d8a"
      },
      "execution_count": null,
      "outputs": [
        {
          "output_type": "stream",
          "name": "stdout",
          "text": [
            "Epoch 1/50\n",
            "782/782 [==============================] - 17s 10ms/step - loss: 2.5875 - accuracy: 0.2827 - val_loss: 2.9884 - val_accuracy: 0.2031\n",
            "Epoch 2/50\n",
            "782/782 [==============================] - 7s 10ms/step - loss: 1.7485 - accuracy: 0.3883 - val_loss: 2.4208 - val_accuracy: 0.3081\n",
            "Epoch 3/50\n",
            "782/782 [==============================] - 8s 11ms/step - loss: 1.6561 - accuracy: 0.4347 - val_loss: 1.4672 - val_accuracy: 0.4810\n",
            "Epoch 4/50\n",
            "782/782 [==============================] - 8s 10ms/step - loss: 1.5593 - accuracy: 0.4865 - val_loss: 1.6742 - val_accuracy: 0.5207\n",
            "Epoch 5/50\n",
            "782/782 [==============================] - 8s 10ms/step - loss: 1.4308 - accuracy: 0.5386 - val_loss: 1.1370 - val_accuracy: 0.6186\n",
            "Epoch 6/50\n",
            "782/782 [==============================] - 8s 10ms/step - loss: 1.3588 - accuracy: 0.5802 - val_loss: 1.3705 - val_accuracy: 0.6149\n",
            "Epoch 7/50\n",
            "782/782 [==============================] - 10s 13ms/step - loss: 1.3079 - accuracy: 0.6069 - val_loss: 1.8253 - val_accuracy: 0.5867\n",
            "Epoch 8/50\n",
            "782/782 [==============================] - 11s 14ms/step - loss: 1.2808 - accuracy: 0.6253 - val_loss: 1.1934 - val_accuracy: 0.6401\n",
            "Epoch 9/50\n",
            "782/782 [==============================] - 9s 11ms/step - loss: 1.2152 - accuracy: 0.6467 - val_loss: 1.4634 - val_accuracy: 0.6004\n",
            "Epoch 10/50\n",
            "782/782 [==============================] - 8s 10ms/step - loss: 1.1738 - accuracy: 0.6616 - val_loss: 1.1880 - val_accuracy: 0.6747\n",
            "Epoch 11/50\n",
            "782/782 [==============================] - 8s 11ms/step - loss: 1.2011 - accuracy: 0.6692 - val_loss: 1.0358 - val_accuracy: 0.6753\n",
            "Epoch 12/50\n",
            "782/782 [==============================] - 9s 11ms/step - loss: 1.1301 - accuracy: 0.6841 - val_loss: 1.1522 - val_accuracy: 0.6851\n",
            "Epoch 13/50\n",
            "782/782 [==============================] - 8s 10ms/step - loss: 1.1667 - accuracy: 0.6921 - val_loss: 0.8488 - val_accuracy: 0.7464\n",
            "Epoch 14/50\n",
            "782/782 [==============================] - 8s 10ms/step - loss: 1.1611 - accuracy: 0.6976 - val_loss: 1.1902 - val_accuracy: 0.6812\n",
            "Epoch 15/50\n",
            "782/782 [==============================] - 8s 11ms/step - loss: 1.0889 - accuracy: 0.7108 - val_loss: 1.2537 - val_accuracy: 0.6830\n",
            "Epoch 16/50\n",
            "782/782 [==============================] - 8s 11ms/step - loss: 1.0925 - accuracy: 0.7139 - val_loss: 1.1065 - val_accuracy: 0.7218\n",
            "Epoch 17/50\n",
            "782/782 [==============================] - 8s 11ms/step - loss: 1.1420 - accuracy: 0.7188 - val_loss: 2.1087 - val_accuracy: 0.6151\n",
            "Epoch 18/50\n",
            "782/782 [==============================] - 8s 10ms/step - loss: 1.1050 - accuracy: 0.7277 - val_loss: 1.1206 - val_accuracy: 0.7266\n",
            "Epoch 19/50\n",
            "782/782 [==============================] - 8s 10ms/step - loss: 1.0856 - accuracy: 0.7358 - val_loss: 1.0704 - val_accuracy: 0.7423\n",
            "Epoch 20/50\n",
            "782/782 [==============================] - 9s 11ms/step - loss: 1.0645 - accuracy: 0.7400 - val_loss: 1.2290 - val_accuracy: 0.7339\n",
            "Epoch 21/50\n",
            "782/782 [==============================] - 8s 11ms/step - loss: 1.0808 - accuracy: 0.7430 - val_loss: 1.0549 - val_accuracy: 0.7481\n",
            "Epoch 22/50\n",
            "782/782 [==============================] - 8s 10ms/step - loss: 1.0806 - accuracy: 0.7441 - val_loss: 1.1256 - val_accuracy: 0.7421\n",
            "Epoch 23/50\n",
            "782/782 [==============================] - 9s 12ms/step - loss: 1.0452 - accuracy: 0.7524 - val_loss: 1.2089 - val_accuracy: 0.7168\n",
            "Epoch 24/50\n",
            "782/782 [==============================] - 9s 11ms/step - loss: 1.0543 - accuracy: 0.7532 - val_loss: 1.0474 - val_accuracy: 0.7649\n",
            "Epoch 25/50\n",
            "782/782 [==============================] - 9s 12ms/step - loss: 1.0179 - accuracy: 0.7614 - val_loss: 1.4615 - val_accuracy: 0.7085\n",
            "Epoch 26/50\n",
            "782/782 [==============================] - 8s 10ms/step - loss: 1.0696 - accuracy: 0.7577 - val_loss: 1.0162 - val_accuracy: 0.7734\n",
            "Epoch 27/50\n",
            "782/782 [==============================] - 8s 10ms/step - loss: 1.0271 - accuracy: 0.7651 - val_loss: 1.4942 - val_accuracy: 0.7015\n",
            "Epoch 28/50\n",
            "782/782 [==============================] - 8s 10ms/step - loss: 1.0842 - accuracy: 0.7669 - val_loss: 1.0691 - val_accuracy: 0.7684\n",
            "Epoch 29/50\n",
            "782/782 [==============================] - 8s 10ms/step - loss: 1.0617 - accuracy: 0.7694 - val_loss: 1.1188 - val_accuracy: 0.7870\n",
            "Epoch 30/50\n",
            "782/782 [==============================] - 7s 10ms/step - loss: 1.0288 - accuracy: 0.7767 - val_loss: 1.3471 - val_accuracy: 0.7280\n",
            "Epoch 31/50\n",
            "782/782 [==============================] - 8s 10ms/step - loss: 0.9854 - accuracy: 0.7824 - val_loss: 1.0253 - val_accuracy: 0.7772\n",
            "Epoch 32/50\n",
            "782/782 [==============================] - 9s 12ms/step - loss: 1.1343 - accuracy: 0.7708 - val_loss: 1.3143 - val_accuracy: 0.7495\n",
            "Epoch 33/50\n",
            "782/782 [==============================] - 9s 12ms/step - loss: 1.0470 - accuracy: 0.7835 - val_loss: 1.3040 - val_accuracy: 0.7642\n",
            "Epoch 34/50\n",
            "782/782 [==============================] - 9s 11ms/step - loss: 1.0026 - accuracy: 0.7869 - val_loss: 0.9846 - val_accuracy: 0.8046\n",
            "Epoch 35/50\n",
            "782/782 [==============================] - 8s 10ms/step - loss: 1.0688 - accuracy: 0.7880 - val_loss: 1.1792 - val_accuracy: 0.7846\n",
            "Epoch 36/50\n",
            "782/782 [==============================] - 8s 10ms/step - loss: 0.9671 - accuracy: 0.7937 - val_loss: 0.9810 - val_accuracy: 0.8017\n",
            "Epoch 37/50\n",
            "782/782 [==============================] - 8s 11ms/step - loss: 1.0812 - accuracy: 0.7885 - val_loss: 1.0097 - val_accuracy: 0.8057\n",
            "Epoch 38/50\n",
            "782/782 [==============================] - 8s 10ms/step - loss: 1.0350 - accuracy: 0.7931 - val_loss: 1.1332 - val_accuracy: 0.7998\n",
            "Epoch 39/50\n",
            "782/782 [==============================] - 8s 10ms/step - loss: 1.0345 - accuracy: 0.7974 - val_loss: 1.4356 - val_accuracy: 0.7695\n",
            "Epoch 40/50\n",
            "782/782 [==============================] - 9s 11ms/step - loss: 1.0414 - accuracy: 0.7999 - val_loss: 1.0990 - val_accuracy: 0.7975\n",
            "Epoch 41/50\n",
            "782/782 [==============================] - 8s 10ms/step - loss: 1.0806 - accuracy: 0.7969 - val_loss: 1.4818 - val_accuracy: 0.7568\n",
            "Epoch 42/50\n",
            "782/782 [==============================] - 8s 10ms/step - loss: 1.0784 - accuracy: 0.8005 - val_loss: 1.4114 - val_accuracy: 0.7633\n",
            "Epoch 43/50\n",
            "782/782 [==============================] - 8s 10ms/step - loss: 1.0222 - accuracy: 0.8053 - val_loss: 0.9803 - val_accuracy: 0.8071\n",
            "Epoch 44/50\n",
            "782/782 [==============================] - 8s 10ms/step - loss: 1.0611 - accuracy: 0.8033 - val_loss: 1.4025 - val_accuracy: 0.7916\n",
            "Epoch 45/50\n",
            "782/782 [==============================] - 8s 10ms/step - loss: 1.0487 - accuracy: 0.8077 - val_loss: 1.0356 - val_accuracy: 0.8176\n",
            "Epoch 46/50\n",
            "782/782 [==============================] - 8s 10ms/step - loss: 1.1078 - accuracy: 0.8059 - val_loss: 1.3597 - val_accuracy: 0.7726\n",
            "Epoch 47/50\n",
            "782/782 [==============================] - 8s 11ms/step - loss: 1.0508 - accuracy: 0.8100 - val_loss: 0.9275 - val_accuracy: 0.8180\n",
            "Epoch 48/50\n",
            "782/782 [==============================] - 8s 10ms/step - loss: 1.0325 - accuracy: 0.8099 - val_loss: 1.7396 - val_accuracy: 0.7418\n",
            "Epoch 49/50\n",
            "782/782 [==============================] - 8s 10ms/step - loss: 1.1052 - accuracy: 0.8081 - val_loss: 1.4926 - val_accuracy: 0.7983\n",
            "Epoch 50/50\n",
            "782/782 [==============================] - 7s 10ms/step - loss: 1.1230 - accuracy: 0.8085 - val_loss: 1.3311 - val_accuracy: 0.7992\n",
            "Test loss: 1.3311008214950562\n",
            "Test accuracy: 0.7991999983787537\n"
          ]
        }
      ]
    },
    {
      "cell_type": "markdown",
      "source": [
        "Step 2.2: Changing the learning rate to 0.0001"
      ],
      "metadata": {
        "id": "553coYC-3bvn"
      }
    },
    {
      "cell_type": "code",
      "source": [
        "model3 = Sequential()\n",
        "model3.add(Conv2D(filters = 32, kernel_size = (3,3), padding='same', input_shape = input_shape))\n",
        "model3.add(Activation('relu'))\n",
        "model3.add(BatchNormalization())\n",
        "model3.add(Conv2D(filters = 32, kernel_size = (3,3), padding='same'))\n",
        "model3.add(Activation('relu'))\n",
        "model3.add(BatchNormalization())\n",
        "model3.add(MaxPooling2D(2,2))\n",
        "model3.add(Dropout(0.2))\n",
        "\n",
        "model3.add(Conv2D(filters = 64, kernel_size = (3,3), padding='same'))\n",
        "model3.add(Activation('relu'))\n",
        "model3.add(BatchNormalization())\n",
        "model3.add(Conv2D(filters = 64, kernel_size = (3,3), padding='same'))\n",
        "model3.add(Activation('relu'))\n",
        "model3.add(BatchNormalization())\n",
        "model3.add(MaxPooling2D(2,2))\n",
        "model3.add(Dropout(0.3))\n",
        "\n",
        "model3.add(Conv2D(filters = 128, kernel_size = (3,3), padding='same'))\n",
        "model3.add(Activation('relu'))\n",
        "model3.add(BatchNormalization())\n",
        "model3.add(Conv2D(filters = 128, kernel_size = (3,3), padding='same'))\n",
        "model3.add(Activation('relu'))\n",
        "model3.add(BatchNormalization())\n",
        "model3.add(MaxPooling2D(2,2))\n",
        "model3.add(Dropout(0.4))\n",
        "\n",
        "model3.add(Flatten())\n",
        "\n",
        "model3.add(Dense(units = 10, activation = 'softmax'))"
      ],
      "metadata": {
        "id": "Cjs23yGO3GR3"
      },
      "execution_count": null,
      "outputs": []
    },
    {
      "cell_type": "code",
      "source": [
        "# https://keras.io/optimizers/\n",
        "model3.compile(loss=keras.losses.categorical_crossentropy, optimizer=keras.optimizers.Adam(lr=0.0001), metrics=['accuracy'])"
      ],
      "metadata": {
        "colab": {
          "base_uri": "https://localhost:8080/"
        },
        "id": "f5wRF7Iw3GY8",
        "outputId": "cd38aec8-f754-4f21-dfd8-347dc6ce72c7"
      },
      "execution_count": null,
      "outputs": [
        {
          "output_type": "stream",
          "name": "stderr",
          "text": [
            "/usr/local/lib/python3.8/dist-packages/keras/optimizers/optimizer_v2/adam.py:110: UserWarning: The `lr` argument is deprecated, use `learning_rate` instead.\n",
            "  super(Adam, self).__init__(name, **kwargs)\n"
          ]
        }
      ]
    },
    {
      "cell_type": "code",
      "source": [
        "model3.fit(x_train, y_train, batch_size=batch_size, epochs=epochs, verbose=1, validation_data=(x_test, y_test))\n",
        "score = model3.evaluate(x_test, y_test, verbose=0)\n",
        "print('Test loss:', score[0])\n",
        "print('Test accuracy:', score[1])"
      ],
      "metadata": {
        "colab": {
          "base_uri": "https://localhost:8080/"
        },
        "id": "TDyy3XVy3Gnj",
        "outputId": "83490433-bc3f-495b-9368-cb9140d73454"
      },
      "execution_count": null,
      "outputs": [
        {
          "output_type": "stream",
          "name": "stdout",
          "text": [
            "Epoch 1/50\n",
            "782/782 [==============================] - 10s 11ms/step - loss: 2.5542 - accuracy: 0.3144 - val_loss: 1.4925 - val_accuracy: 0.4636\n",
            "Epoch 2/50\n",
            "782/782 [==============================] - 8s 10ms/step - loss: 1.7661 - accuracy: 0.4436 - val_loss: 1.2934 - val_accuracy: 0.5393\n",
            "Epoch 3/50\n",
            "782/782 [==============================] - 8s 10ms/step - loss: 1.5001 - accuracy: 0.5077 - val_loss: 1.1991 - val_accuracy: 0.5744\n",
            "Epoch 4/50\n",
            "782/782 [==============================] - 7s 10ms/step - loss: 1.3167 - accuracy: 0.5616 - val_loss: 1.0654 - val_accuracy: 0.6214\n",
            "Epoch 5/50\n",
            "782/782 [==============================] - 8s 10ms/step - loss: 1.1903 - accuracy: 0.5953 - val_loss: 1.0820 - val_accuracy: 0.6201\n",
            "Epoch 6/50\n",
            "782/782 [==============================] - 9s 11ms/step - loss: 1.0862 - accuracy: 0.6279 - val_loss: 0.9015 - val_accuracy: 0.6835\n",
            "Epoch 7/50\n",
            "782/782 [==============================] - 8s 10ms/step - loss: 1.0079 - accuracy: 0.6534 - val_loss: 0.8518 - val_accuracy: 0.7015\n",
            "Epoch 8/50\n",
            "782/782 [==============================] - 7s 10ms/step - loss: 0.9421 - accuracy: 0.6719 - val_loss: 0.8568 - val_accuracy: 0.7042\n",
            "Epoch 9/50\n",
            "782/782 [==============================] - 8s 10ms/step - loss: 0.8829 - accuracy: 0.6942 - val_loss: 0.7785 - val_accuracy: 0.7299\n",
            "Epoch 10/50\n",
            "782/782 [==============================] - 7s 10ms/step - loss: 0.8355 - accuracy: 0.7099 - val_loss: 0.7483 - val_accuracy: 0.7440\n",
            "Epoch 11/50\n",
            "782/782 [==============================] - 7s 9ms/step - loss: 0.7912 - accuracy: 0.7256 - val_loss: 0.7344 - val_accuracy: 0.7468\n",
            "Epoch 12/50\n",
            "782/782 [==============================] - 8s 10ms/step - loss: 0.7546 - accuracy: 0.7358 - val_loss: 0.7324 - val_accuracy: 0.7438\n",
            "Epoch 13/50\n",
            "782/782 [==============================] - 8s 10ms/step - loss: 0.7255 - accuracy: 0.7460 - val_loss: 0.6666 - val_accuracy: 0.7693\n",
            "Epoch 14/50\n",
            "782/782 [==============================] - 9s 12ms/step - loss: 0.6947 - accuracy: 0.7561 - val_loss: 0.7262 - val_accuracy: 0.7445\n",
            "Epoch 15/50\n",
            "782/782 [==============================] - 9s 11ms/step - loss: 0.6680 - accuracy: 0.7660 - val_loss: 0.6850 - val_accuracy: 0.7630\n",
            "Epoch 16/50\n",
            "782/782 [==============================] - 8s 10ms/step - loss: 0.6516 - accuracy: 0.7715 - val_loss: 0.6514 - val_accuracy: 0.7760\n",
            "Epoch 17/50\n",
            "782/782 [==============================] - 10s 12ms/step - loss: 0.6179 - accuracy: 0.7855 - val_loss: 0.6548 - val_accuracy: 0.7755\n",
            "Epoch 18/50\n",
            "782/782 [==============================] - 9s 11ms/step - loss: 0.6058 - accuracy: 0.7871 - val_loss: 0.6224 - val_accuracy: 0.7832\n",
            "Epoch 19/50\n",
            "782/782 [==============================] - 8s 10ms/step - loss: 0.5826 - accuracy: 0.7960 - val_loss: 0.6286 - val_accuracy: 0.7848\n",
            "Epoch 20/50\n",
            "782/782 [==============================] - 8s 10ms/step - loss: 0.5643 - accuracy: 0.8022 - val_loss: 0.6012 - val_accuracy: 0.7937\n",
            "Epoch 21/50\n",
            "782/782 [==============================] - 8s 10ms/step - loss: 0.5480 - accuracy: 0.8073 - val_loss: 0.5947 - val_accuracy: 0.7959\n",
            "Epoch 22/50\n",
            "782/782 [==============================] - 8s 10ms/step - loss: 0.5323 - accuracy: 0.8127 - val_loss: 0.5677 - val_accuracy: 0.8074\n",
            "Epoch 23/50\n",
            "782/782 [==============================] - 7s 9ms/step - loss: 0.5158 - accuracy: 0.8181 - val_loss: 0.5951 - val_accuracy: 0.7945\n",
            "Epoch 24/50\n",
            "782/782 [==============================] - 8s 11ms/step - loss: 0.5044 - accuracy: 0.8224 - val_loss: 0.5581 - val_accuracy: 0.8089\n",
            "Epoch 25/50\n",
            "782/782 [==============================] - 8s 10ms/step - loss: 0.4906 - accuracy: 0.8262 - val_loss: 0.5886 - val_accuracy: 0.8022\n",
            "Epoch 26/50\n",
            "782/782 [==============================] - 8s 10ms/step - loss: 0.4734 - accuracy: 0.8345 - val_loss: 0.5476 - val_accuracy: 0.8129\n",
            "Epoch 27/50\n",
            "782/782 [==============================] - 7s 9ms/step - loss: 0.4638 - accuracy: 0.8344 - val_loss: 0.5591 - val_accuracy: 0.8127\n",
            "Epoch 28/50\n",
            "782/782 [==============================] - 8s 10ms/step - loss: 0.4534 - accuracy: 0.8422 - val_loss: 0.5459 - val_accuracy: 0.8148\n",
            "Epoch 29/50\n",
            "782/782 [==============================] - 8s 10ms/step - loss: 0.4448 - accuracy: 0.8437 - val_loss: 0.5346 - val_accuracy: 0.8180\n",
            "Epoch 30/50\n",
            "782/782 [==============================] - 8s 10ms/step - loss: 0.4330 - accuracy: 0.8465 - val_loss: 0.5527 - val_accuracy: 0.8127\n",
            "Epoch 31/50\n",
            "782/782 [==============================] - 7s 9ms/step - loss: 0.4181 - accuracy: 0.8527 - val_loss: 0.5377 - val_accuracy: 0.8208\n",
            "Epoch 32/50\n",
            "782/782 [==============================] - 8s 10ms/step - loss: 0.4066 - accuracy: 0.8561 - val_loss: 0.5272 - val_accuracy: 0.8240\n",
            "Epoch 33/50\n",
            "782/782 [==============================] - 9s 11ms/step - loss: 0.3981 - accuracy: 0.8597 - val_loss: 0.5402 - val_accuracy: 0.8171\n",
            "Epoch 34/50\n",
            "782/782 [==============================] - 9s 11ms/step - loss: 0.3916 - accuracy: 0.8623 - val_loss: 0.5331 - val_accuracy: 0.8240\n",
            "Epoch 35/50\n",
            "782/782 [==============================] - 7s 10ms/step - loss: 0.3810 - accuracy: 0.8658 - val_loss: 0.5199 - val_accuracy: 0.8304\n",
            "Epoch 36/50\n",
            "782/782 [==============================] - 8s 10ms/step - loss: 0.3698 - accuracy: 0.8691 - val_loss: 0.5110 - val_accuracy: 0.8315\n",
            "Epoch 37/50\n",
            "782/782 [==============================] - 7s 9ms/step - loss: 0.3618 - accuracy: 0.8717 - val_loss: 0.5369 - val_accuracy: 0.8233\n",
            "Epoch 38/50\n",
            "782/782 [==============================] - 8s 10ms/step - loss: 0.3542 - accuracy: 0.8740 - val_loss: 0.5342 - val_accuracy: 0.8264\n",
            "Epoch 39/50\n",
            "782/782 [==============================] - 7s 10ms/step - loss: 0.3467 - accuracy: 0.8769 - val_loss: 0.5187 - val_accuracy: 0.8296\n",
            "Epoch 40/50\n",
            "782/782 [==============================] - 8s 10ms/step - loss: 0.3439 - accuracy: 0.8774 - val_loss: 0.5317 - val_accuracy: 0.8278\n",
            "Epoch 41/50\n",
            "782/782 [==============================] - 8s 10ms/step - loss: 0.3372 - accuracy: 0.8799 - val_loss: 0.5179 - val_accuracy: 0.8325\n",
            "Epoch 42/50\n",
            "782/782 [==============================] - 11s 14ms/step - loss: 0.3298 - accuracy: 0.8818 - val_loss: 0.5128 - val_accuracy: 0.8330\n",
            "Epoch 43/50\n",
            "782/782 [==============================] - 8s 10ms/step - loss: 0.3231 - accuracy: 0.8843 - val_loss: 0.5163 - val_accuracy: 0.8342\n",
            "Epoch 44/50\n",
            "782/782 [==============================] - 8s 10ms/step - loss: 0.3141 - accuracy: 0.8882 - val_loss: 0.5348 - val_accuracy: 0.8290\n",
            "Epoch 45/50\n",
            "782/782 [==============================] - 8s 10ms/step - loss: 0.3098 - accuracy: 0.8886 - val_loss: 0.5214 - val_accuracy: 0.8331\n",
            "Epoch 46/50\n",
            "782/782 [==============================] - 7s 10ms/step - loss: 0.3022 - accuracy: 0.8927 - val_loss: 0.5204 - val_accuracy: 0.8342\n",
            "Epoch 47/50\n",
            "782/782 [==============================] - 8s 10ms/step - loss: 0.2947 - accuracy: 0.8937 - val_loss: 0.5176 - val_accuracy: 0.8395\n",
            "Epoch 48/50\n",
            "782/782 [==============================] - 9s 12ms/step - loss: 0.2955 - accuracy: 0.8946 - val_loss: 0.5177 - val_accuracy: 0.8352\n",
            "Epoch 49/50\n",
            "782/782 [==============================] - 9s 11ms/step - loss: 0.2870 - accuracy: 0.8957 - val_loss: 0.5523 - val_accuracy: 0.8270\n",
            "Epoch 50/50\n",
            "782/782 [==============================] - 8s 11ms/step - loss: 0.2813 - accuracy: 0.8997 - val_loss: 0.4993 - val_accuracy: 0.8439\n",
            "Test loss: 0.4993076026439667\n",
            "Test accuracy: 0.8439000248908997\n"
          ]
        }
      ]
    },
    {
      "cell_type": "markdown",
      "source": [
        "Step 3: Changing the First layer kernel size to 7x7"
      ],
      "metadata": {
        "id": "1C5POC4p3t3N"
      }
    },
    {
      "cell_type": "code",
      "source": [
        "model4 = Sequential()\n",
        "model4.add(Conv2D(filters = 32, kernel_size = (7,7), padding='same', input_shape = input_shape))\n",
        "model4.add(Activation('relu'))\n",
        "model4.add(BatchNormalization())\n",
        "model4.add(Conv2D(filters = 32, kernel_size = (3,3), padding='same'))\n",
        "model4.add(Activation('relu'))\n",
        "model4.add(BatchNormalization())\n",
        "model4.add(MaxPooling2D(2,2))\n",
        "model4.add(Dropout(0.2))\n",
        "\n",
        "model4.add(Conv2D(filters = 64, kernel_size = (3,3), padding='same'))\n",
        "model4.add(Activation('relu'))\n",
        "model4.add(BatchNormalization())\n",
        "model4.add(Conv2D(filters = 64, kernel_size = (3,3), padding='same'))\n",
        "model4.add(Activation('relu'))\n",
        "model4.add(BatchNormalization())\n",
        "model4.add(MaxPooling2D(2,2))\n",
        "model4.add(Dropout(0.3))\n",
        "\n",
        "model4.add(Conv2D(filters = 128, kernel_size = (3,3), padding='same'))\n",
        "model4.add(Activation('relu'))\n",
        "model4.add(BatchNormalization())\n",
        "model4.add(Conv2D(filters = 128, kernel_size = (3,3), padding='same'))\n",
        "model4.add(Activation('relu'))\n",
        "model4.add(BatchNormalization())\n",
        "model4.add(MaxPooling2D(2,2))\n",
        "model4.add(Dropout(0.4))\n",
        "\n",
        "model4.add(Flatten())\n",
        "\n",
        "model4.add(Dense(units = 10, activation = 'softmax'))"
      ],
      "metadata": {
        "id": "T9hl9LtJ31Jl"
      },
      "execution_count": null,
      "outputs": []
    },
    {
      "cell_type": "code",
      "source": [
        "# https://keras.io/optimizers/\n",
        "model4.compile(loss=keras.losses.categorical_crossentropy, optimizer=keras.optimizers.Adam(lr=0.01), metrics=['accuracy'])"
      ],
      "metadata": {
        "colab": {
          "base_uri": "https://localhost:8080/"
        },
        "id": "3OlKHz-Z4AyE",
        "outputId": "f851fc50-d8df-4bc9-feb1-0ed71b8d474e"
      },
      "execution_count": null,
      "outputs": [
        {
          "output_type": "stream",
          "name": "stderr",
          "text": [
            "/usr/local/lib/python3.8/dist-packages/keras/optimizers/optimizer_v2/adam.py:110: UserWarning: The `lr` argument is deprecated, use `learning_rate` instead.\n",
            "  super(Adam, self).__init__(name, **kwargs)\n"
          ]
        }
      ]
    },
    {
      "cell_type": "code",
      "source": [
        "model4.fit(x_train, y_train, batch_size=batch_size, epochs=epochs, verbose=1, validation_data=(x_test, y_test))\n",
        "score = model4.evaluate(x_test, y_test, verbose=0)\n",
        "print('Test loss:', score[0])\n",
        "print('Test accuracy:', score[1])"
      ],
      "metadata": {
        "colab": {
          "base_uri": "https://localhost:8080/"
        },
        "id": "ZjQr51ZX4A4l",
        "outputId": "a737a38c-ca5a-44e1-fe78-445ea1a95c7c"
      },
      "execution_count": null,
      "outputs": [
        {
          "output_type": "stream",
          "name": "stdout",
          "text": [
            "Epoch 1/50\n",
            "782/782 [==============================] - 19s 11ms/step - loss: 2.0906 - accuracy: 0.3829 - val_loss: 1.4515 - val_accuracy: 0.4759\n",
            "Epoch 2/50\n",
            "782/782 [==============================] - 8s 10ms/step - loss: 1.2772 - accuracy: 0.5422 - val_loss: 1.4649 - val_accuracy: 0.4895\n",
            "Epoch 3/50\n",
            "782/782 [==============================] - 8s 10ms/step - loss: 1.0610 - accuracy: 0.6242 - val_loss: 0.9509 - val_accuracy: 0.6684\n",
            "Epoch 4/50\n",
            "782/782 [==============================] - 9s 11ms/step - loss: 0.9313 - accuracy: 0.6722 - val_loss: 1.1104 - val_accuracy: 0.6317\n",
            "Epoch 5/50\n",
            "782/782 [==============================] - 8s 10ms/step - loss: 0.8530 - accuracy: 0.7016 - val_loss: 0.8748 - val_accuracy: 0.7021\n",
            "Epoch 6/50\n",
            "782/782 [==============================] - 8s 10ms/step - loss: 0.8021 - accuracy: 0.7203 - val_loss: 0.7371 - val_accuracy: 0.7459\n",
            "Epoch 7/50\n",
            "782/782 [==============================] - 8s 10ms/step - loss: 0.7543 - accuracy: 0.7386 - val_loss: 0.7910 - val_accuracy: 0.7328\n",
            "Epoch 8/50\n",
            "782/782 [==============================] - 8s 10ms/step - loss: 0.7237 - accuracy: 0.7481 - val_loss: 0.8486 - val_accuracy: 0.7189\n",
            "Epoch 9/50\n",
            "782/782 [==============================] - 8s 11ms/step - loss: 0.6948 - accuracy: 0.7588 - val_loss: 0.7249 - val_accuracy: 0.7548\n",
            "Epoch 10/50\n",
            "782/782 [==============================] - 8s 11ms/step - loss: 0.6660 - accuracy: 0.7721 - val_loss: 0.7135 - val_accuracy: 0.7701\n",
            "Epoch 11/50\n",
            "782/782 [==============================] - 8s 10ms/step - loss: 0.6430 - accuracy: 0.7772 - val_loss: 0.7531 - val_accuracy: 0.7536\n",
            "Epoch 12/50\n",
            "782/782 [==============================] - 8s 10ms/step - loss: 0.6176 - accuracy: 0.7872 - val_loss: 0.6847 - val_accuracy: 0.7759\n",
            "Epoch 13/50\n",
            "782/782 [==============================] - 8s 10ms/step - loss: 0.6005 - accuracy: 0.7939 - val_loss: 0.8110 - val_accuracy: 0.7478\n",
            "Epoch 14/50\n",
            "782/782 [==============================] - 8s 11ms/step - loss: 0.5889 - accuracy: 0.7980 - val_loss: 0.6426 - val_accuracy: 0.7925\n",
            "Epoch 15/50\n",
            "782/782 [==============================] - 8s 10ms/step - loss: 0.5747 - accuracy: 0.8028 - val_loss: 0.7347 - val_accuracy: 0.7578\n",
            "Epoch 16/50\n",
            "782/782 [==============================] - 8s 10ms/step - loss: 0.5500 - accuracy: 0.8087 - val_loss: 0.6931 - val_accuracy: 0.7773\n",
            "Epoch 17/50\n",
            "782/782 [==============================] - 8s 11ms/step - loss: 0.5433 - accuracy: 0.8136 - val_loss: 0.5871 - val_accuracy: 0.8072\n",
            "Epoch 18/50\n",
            "782/782 [==============================] - 8s 10ms/step - loss: 0.5268 - accuracy: 0.8193 - val_loss: 0.5743 - val_accuracy: 0.8110\n",
            "Epoch 19/50\n",
            "782/782 [==============================] - 8s 11ms/step - loss: 0.5129 - accuracy: 0.8261 - val_loss: 0.7613 - val_accuracy: 0.7529\n",
            "Epoch 20/50\n",
            "782/782 [==============================] - 8s 10ms/step - loss: 0.5023 - accuracy: 0.8276 - val_loss: 0.6327 - val_accuracy: 0.8028\n",
            "Epoch 21/50\n",
            "782/782 [==============================] - 8s 10ms/step - loss: 0.4999 - accuracy: 0.8287 - val_loss: 0.5369 - val_accuracy: 0.8265\n",
            "Epoch 22/50\n",
            "782/782 [==============================] - 8s 11ms/step - loss: 0.4827 - accuracy: 0.8341 - val_loss: 0.5412 - val_accuracy: 0.8190\n",
            "Epoch 23/50\n",
            "782/782 [==============================] - 8s 11ms/step - loss: 0.4687 - accuracy: 0.8392 - val_loss: 0.5951 - val_accuracy: 0.8053\n",
            "Epoch 24/50\n",
            "782/782 [==============================] - 9s 11ms/step - loss: 0.4702 - accuracy: 0.8391 - val_loss: 0.5696 - val_accuracy: 0.8260\n",
            "Epoch 25/50\n",
            "782/782 [==============================] - 8s 10ms/step - loss: 0.4555 - accuracy: 0.8433 - val_loss: 0.5814 - val_accuracy: 0.8102\n",
            "Epoch 26/50\n",
            "782/782 [==============================] - 8s 10ms/step - loss: 0.4537 - accuracy: 0.8442 - val_loss: 0.5626 - val_accuracy: 0.8180\n",
            "Epoch 27/50\n",
            "782/782 [==============================] - 8s 10ms/step - loss: 0.4429 - accuracy: 0.8489 - val_loss: 0.6085 - val_accuracy: 0.8089\n",
            "Epoch 28/50\n",
            "782/782 [==============================] - 8s 11ms/step - loss: 0.4395 - accuracy: 0.8503 - val_loss: 0.5870 - val_accuracy: 0.8185\n",
            "Epoch 29/50\n",
            "782/782 [==============================] - 8s 11ms/step - loss: 0.4312 - accuracy: 0.8527 - val_loss: 0.5986 - val_accuracy: 0.8113\n",
            "Epoch 30/50\n",
            "782/782 [==============================] - 8s 10ms/step - loss: 0.4261 - accuracy: 0.8551 - val_loss: 0.7899 - val_accuracy: 0.7675\n",
            "Epoch 31/50\n",
            "782/782 [==============================] - 8s 10ms/step - loss: 0.4176 - accuracy: 0.8576 - val_loss: 0.6217 - val_accuracy: 0.8088\n",
            "Epoch 32/50\n",
            "782/782 [==============================] - 8s 10ms/step - loss: 0.4041 - accuracy: 0.8628 - val_loss: 0.5646 - val_accuracy: 0.8254\n",
            "Epoch 33/50\n",
            "782/782 [==============================] - 9s 11ms/step - loss: 0.4096 - accuracy: 0.8613 - val_loss: 0.5495 - val_accuracy: 0.8335\n",
            "Epoch 34/50\n",
            "782/782 [==============================] - 9s 11ms/step - loss: 0.4020 - accuracy: 0.8625 - val_loss: 0.5688 - val_accuracy: 0.8291\n",
            "Epoch 35/50\n",
            "782/782 [==============================] - 8s 10ms/step - loss: 0.3917 - accuracy: 0.8666 - val_loss: 0.5428 - val_accuracy: 0.8348\n",
            "Epoch 36/50\n",
            "782/782 [==============================] - 8s 10ms/step - loss: 0.3897 - accuracy: 0.8682 - val_loss: 0.6056 - val_accuracy: 0.8215\n",
            "Epoch 37/50\n",
            "782/782 [==============================] - 8s 10ms/step - loss: 0.3845 - accuracy: 0.8691 - val_loss: 0.5278 - val_accuracy: 0.8411\n",
            "Epoch 38/50\n",
            "782/782 [==============================] - 8s 10ms/step - loss: 0.3808 - accuracy: 0.8704 - val_loss: 0.5467 - val_accuracy: 0.8317\n",
            "Epoch 39/50\n",
            "782/782 [==============================] - 8s 11ms/step - loss: 0.3738 - accuracy: 0.8723 - val_loss: 0.5934 - val_accuracy: 0.8238\n",
            "Epoch 40/50\n",
            "782/782 [==============================] - 8s 11ms/step - loss: 0.3703 - accuracy: 0.8749 - val_loss: 0.6575 - val_accuracy: 0.8213\n",
            "Epoch 41/50\n",
            "782/782 [==============================] - 8s 10ms/step - loss: 0.3656 - accuracy: 0.8762 - val_loss: 0.5893 - val_accuracy: 0.8282\n",
            "Epoch 42/50\n",
            "782/782 [==============================] - 8s 11ms/step - loss: 0.3663 - accuracy: 0.8746 - val_loss: 0.5584 - val_accuracy: 0.8426\n",
            "Epoch 43/50\n",
            "782/782 [==============================] - 8s 10ms/step - loss: 0.3637 - accuracy: 0.8768 - val_loss: 0.6433 - val_accuracy: 0.8185\n",
            "Epoch 44/50\n",
            "782/782 [==============================] - 8s 11ms/step - loss: 0.3631 - accuracy: 0.8770 - val_loss: 0.6041 - val_accuracy: 0.8269\n",
            "Epoch 45/50\n",
            "782/782 [==============================] - 8s 10ms/step - loss: 0.3622 - accuracy: 0.8781 - val_loss: 0.5967 - val_accuracy: 0.8228\n",
            "Epoch 46/50\n",
            "782/782 [==============================] - 8s 10ms/step - loss: 0.3498 - accuracy: 0.8809 - val_loss: 0.5886 - val_accuracy: 0.8299\n",
            "Epoch 47/50\n",
            "782/782 [==============================] - 8s 10ms/step - loss: 0.3411 - accuracy: 0.8850 - val_loss: 0.5988 - val_accuracy: 0.8348\n",
            "Epoch 48/50\n",
            "782/782 [==============================] - 8s 10ms/step - loss: 0.3482 - accuracy: 0.8829 - val_loss: 0.5933 - val_accuracy: 0.8357\n",
            "Epoch 49/50\n",
            "782/782 [==============================] - 8s 11ms/step - loss: 0.3422 - accuracy: 0.8847 - val_loss: 0.5512 - val_accuracy: 0.8410\n",
            "Epoch 50/50\n",
            "782/782 [==============================] - 8s 11ms/step - loss: 0.3365 - accuracy: 0.8861 - val_loss: 0.6638 - val_accuracy: 0.8067\n",
            "Test loss: 0.663821280002594\n",
            "Test accuracy: 0.8066999912261963\n"
          ]
        }
      ]
    },
    {
      "cell_type": "markdown",
      "source": [
        "Step 4:Change optimization to RMSProp"
      ],
      "metadata": {
        "id": "oGhDY_xl4Hzt"
      }
    },
    {
      "cell_type": "code",
      "source": [
        "model5 = Sequential()\n",
        "model5.add(Conv2D(filters = 32, kernel_size = (3,3), padding='same', input_shape = input_shape))\n",
        "model5.add(Activation('relu'))\n",
        "model5.add(BatchNormalization())\n",
        "model5.add(Conv2D(filters = 32, kernel_size = (3,3), padding='same'))\n",
        "model5.add(Activation('relu'))\n",
        "model5.add(BatchNormalization())\n",
        "model5.add(MaxPooling2D(2,2))\n",
        "model5.add(Dropout(0.2))\n",
        "\n",
        "model5.add(Conv2D(filters = 64, kernel_size = (3,3), padding='same'))\n",
        "model5.add(Activation('relu'))\n",
        "model5.add(BatchNormalization())\n",
        "model5.add(Conv2D(filters = 64, kernel_size = (3,3), padding='same'))\n",
        "model5.add(Activation('relu'))\n",
        "model5.add(BatchNormalization())\n",
        "model5.add(MaxPooling2D(2,2))\n",
        "model5.add(Dropout(0.3))\n",
        "\n",
        "model5.add(Conv2D(filters = 128, kernel_size = (3,3), padding='same'))\n",
        "model5.add(Activation('relu'))\n",
        "model5.add(BatchNormalization())\n",
        "model5.add(Conv2D(filters = 128, kernel_size = (3,3), padding='same'))\n",
        "model5.add(Activation('relu'))\n",
        "model5.add(BatchNormalization())\n",
        "model5.add(MaxPooling2D(2,2))\n",
        "model5.add(Dropout(0.4))\n",
        "\n",
        "model5.add(Flatten())\n",
        "\n",
        "model5.add(Dense(units = 10, activation = 'softmax'))"
      ],
      "metadata": {
        "id": "Dhk2Z-7m4SJN"
      },
      "execution_count": null,
      "outputs": []
    },
    {
      "cell_type": "code",
      "source": [
        "# https://keras.io/optimizers/\n",
        "model5.compile(loss=keras.losses.categorical_crossentropy, optimizer=keras.optimizers.RMSprop(lr=0.01), metrics=['accuracy'])"
      ],
      "metadata": {
        "colab": {
          "base_uri": "https://localhost:8080/"
        },
        "id": "bnvfbdDU4SSc",
        "outputId": "01fec87e-ada4-4f61-ba56-f05f4371fda1"
      },
      "execution_count": null,
      "outputs": [
        {
          "output_type": "stream",
          "name": "stderr",
          "text": [
            "/usr/local/lib/python3.8/dist-packages/keras/optimizers/optimizer_v2/rmsprop.py:135: UserWarning: The `lr` argument is deprecated, use `learning_rate` instead.\n",
            "  super(RMSprop, self).__init__(name, **kwargs)\n"
          ]
        }
      ]
    },
    {
      "cell_type": "code",
      "source": [
        "model5.fit(x_train, y_train, batch_size=batch_size, epochs=epochs, verbose=1, validation_data=(x_test, y_test))\n",
        "score = model4.evaluate(x_test, y_test, verbose=0)\n",
        "print('Test loss:', score[0])\n",
        "print('Test accuracy:', score[1])"
      ],
      "metadata": {
        "colab": {
          "base_uri": "https://localhost:8080/"
        },
        "id": "gDnS3zeu4SaH",
        "outputId": "4fab3022-5799-47da-d586-323e86e6ed6b"
      },
      "execution_count": null,
      "outputs": [
        {
          "output_type": "stream",
          "name": "stdout",
          "text": [
            "Epoch 1/50\n",
            "782/782 [==============================] - 10s 11ms/step - loss: 2.2452 - accuracy: 0.4185 - val_loss: 2.3609 - val_accuracy: 0.3419\n",
            "Epoch 2/50\n",
            "782/782 [==============================] - 8s 10ms/step - loss: 1.1257 - accuracy: 0.5997 - val_loss: 1.5762 - val_accuracy: 0.5480\n",
            "Epoch 3/50\n",
            "782/782 [==============================] - 8s 11ms/step - loss: 0.9559 - accuracy: 0.6669 - val_loss: 1.0636 - val_accuracy: 0.6359\n",
            "Epoch 4/50\n",
            "782/782 [==============================] - 9s 11ms/step - loss: 0.8498 - accuracy: 0.7026 - val_loss: 0.8259 - val_accuracy: 0.7146\n",
            "Epoch 5/50\n",
            "782/782 [==============================] - 8s 11ms/step - loss: 0.7873 - accuracy: 0.7282 - val_loss: 1.4975 - val_accuracy: 0.5887\n",
            "Epoch 6/50\n",
            "782/782 [==============================] - 8s 10ms/step - loss: 0.7327 - accuracy: 0.7460 - val_loss: 1.5842 - val_accuracy: 0.5367\n",
            "Epoch 7/50\n",
            "782/782 [==============================] - 8s 10ms/step - loss: 0.6903 - accuracy: 0.7602 - val_loss: 0.8637 - val_accuracy: 0.7096\n",
            "Epoch 8/50\n",
            "782/782 [==============================] - 8s 10ms/step - loss: 0.6645 - accuracy: 0.7711 - val_loss: 0.7795 - val_accuracy: 0.7417\n",
            "Epoch 9/50\n",
            "782/782 [==============================] - 8s 10ms/step - loss: 0.6352 - accuracy: 0.7800 - val_loss: 1.4267 - val_accuracy: 0.7214\n",
            "Epoch 10/50\n",
            "782/782 [==============================] - 8s 11ms/step - loss: 0.6144 - accuracy: 0.7910 - val_loss: 0.9239 - val_accuracy: 0.6902\n",
            "Epoch 11/50\n",
            "782/782 [==============================] - 8s 10ms/step - loss: 0.5922 - accuracy: 0.7968 - val_loss: 0.7134 - val_accuracy: 0.7790\n",
            "Epoch 12/50\n",
            "782/782 [==============================] - 8s 10ms/step - loss: 0.5758 - accuracy: 0.8031 - val_loss: 1.0137 - val_accuracy: 0.7112\n",
            "Epoch 13/50\n",
            "782/782 [==============================] - 8s 10ms/step - loss: 0.5641 - accuracy: 0.8092 - val_loss: 0.8280 - val_accuracy: 0.7428\n",
            "Epoch 14/50\n",
            "782/782 [==============================] - 8s 10ms/step - loss: 0.5454 - accuracy: 0.8139 - val_loss: 0.6131 - val_accuracy: 0.8106\n",
            "Epoch 15/50\n",
            "782/782 [==============================] - 8s 11ms/step - loss: 0.5279 - accuracy: 0.8210 - val_loss: 0.5944 - val_accuracy: 0.7991\n",
            "Epoch 16/50\n",
            "782/782 [==============================] - 8s 11ms/step - loss: 0.5107 - accuracy: 0.8247 - val_loss: 0.6304 - val_accuracy: 0.7998\n",
            "Epoch 17/50\n",
            "782/782 [==============================] - 8s 10ms/step - loss: 0.5002 - accuracy: 0.8278 - val_loss: 0.6829 - val_accuracy: 0.7769\n",
            "Epoch 18/50\n",
            "782/782 [==============================] - 8s 10ms/step - loss: 0.4919 - accuracy: 0.8316 - val_loss: 0.6871 - val_accuracy: 0.7980\n",
            "Epoch 19/50\n",
            "782/782 [==============================] - 8s 10ms/step - loss: 0.4829 - accuracy: 0.8355 - val_loss: 0.8917 - val_accuracy: 0.7200\n",
            "Epoch 20/50\n",
            "782/782 [==============================] - 8s 10ms/step - loss: 0.4732 - accuracy: 0.8393 - val_loss: 0.7621 - val_accuracy: 0.7737\n",
            "Epoch 21/50\n",
            "782/782 [==============================] - 9s 11ms/step - loss: 0.4603 - accuracy: 0.8433 - val_loss: 0.6972 - val_accuracy: 0.7961\n",
            "Epoch 22/50\n",
            "782/782 [==============================] - 8s 10ms/step - loss: 0.4574 - accuracy: 0.8445 - val_loss: 0.7816 - val_accuracy: 0.7677\n",
            "Epoch 23/50\n",
            "782/782 [==============================] - 8s 10ms/step - loss: 0.4431 - accuracy: 0.8506 - val_loss: 0.6306 - val_accuracy: 0.8018\n",
            "Epoch 24/50\n",
            "782/782 [==============================] - 8s 10ms/step - loss: 0.4401 - accuracy: 0.8487 - val_loss: 0.6909 - val_accuracy: 0.7850\n",
            "Epoch 25/50\n",
            "782/782 [==============================] - 8s 10ms/step - loss: 0.4238 - accuracy: 0.8560 - val_loss: 0.7541 - val_accuracy: 0.7621\n",
            "Epoch 26/50\n",
            "782/782 [==============================] - 8s 10ms/step - loss: 0.4264 - accuracy: 0.8544 - val_loss: 0.7949 - val_accuracy: 0.7841\n",
            "Epoch 27/50\n",
            "782/782 [==============================] - 8s 11ms/step - loss: 0.4177 - accuracy: 0.8575 - val_loss: 0.6781 - val_accuracy: 0.8041\n",
            "Epoch 28/50\n",
            "782/782 [==============================] - 8s 10ms/step - loss: 0.4122 - accuracy: 0.8590 - val_loss: 0.5107 - val_accuracy: 0.8390\n",
            "Epoch 29/50\n",
            "782/782 [==============================] - 8s 10ms/step - loss: 0.4033 - accuracy: 0.8617 - val_loss: 0.6183 - val_accuracy: 0.8207\n",
            "Epoch 30/50\n",
            "782/782 [==============================] - 8s 10ms/step - loss: 0.4043 - accuracy: 0.8636 - val_loss: 0.5899 - val_accuracy: 0.8245\n",
            "Epoch 31/50\n",
            "782/782 [==============================] - 8s 10ms/step - loss: 0.3971 - accuracy: 0.8653 - val_loss: 0.6114 - val_accuracy: 0.8047\n",
            "Epoch 32/50\n",
            "782/782 [==============================] - 8s 10ms/step - loss: 0.3984 - accuracy: 0.8651 - val_loss: 0.5581 - val_accuracy: 0.8333\n",
            "Epoch 33/50\n",
            "782/782 [==============================] - 8s 11ms/step - loss: 0.3844 - accuracy: 0.8708 - val_loss: 0.5708 - val_accuracy: 0.8275\n",
            "Epoch 34/50\n",
            "782/782 [==============================] - 8s 10ms/step - loss: 0.3804 - accuracy: 0.8699 - val_loss: 0.5427 - val_accuracy: 0.8317\n",
            "Epoch 35/50\n",
            "782/782 [==============================] - 8s 10ms/step - loss: 0.3812 - accuracy: 0.8729 - val_loss: 0.5217 - val_accuracy: 0.8387\n",
            "Epoch 36/50\n",
            "782/782 [==============================] - 8s 10ms/step - loss: 0.3691 - accuracy: 0.8735 - val_loss: 0.5389 - val_accuracy: 0.8368\n",
            "Epoch 37/50\n",
            "782/782 [==============================] - 8s 10ms/step - loss: 0.3701 - accuracy: 0.8733 - val_loss: 0.6099 - val_accuracy: 0.8237\n",
            "Epoch 38/50\n",
            "782/782 [==============================] - 8s 11ms/step - loss: 0.3676 - accuracy: 0.8750 - val_loss: 0.6238 - val_accuracy: 0.8156\n",
            "Epoch 39/50\n",
            "782/782 [==============================] - 8s 10ms/step - loss: 0.3676 - accuracy: 0.8755 - val_loss: 0.6862 - val_accuracy: 0.8049\n",
            "Epoch 40/50\n",
            "782/782 [==============================] - 8s 10ms/step - loss: 0.3580 - accuracy: 0.8796 - val_loss: 0.5541 - val_accuracy: 0.8355\n",
            "Epoch 41/50\n",
            "782/782 [==============================] - 8s 10ms/step - loss: 0.3501 - accuracy: 0.8816 - val_loss: 0.5753 - val_accuracy: 0.8351\n",
            "Epoch 42/50\n",
            "782/782 [==============================] - 8s 10ms/step - loss: 0.3508 - accuracy: 0.8828 - val_loss: 0.6361 - val_accuracy: 0.8188\n",
            "Epoch 43/50\n",
            "782/782 [==============================] - 8s 11ms/step - loss: 0.3484 - accuracy: 0.8824 - val_loss: 0.5639 - val_accuracy: 0.8422\n",
            "Epoch 44/50\n",
            "782/782 [==============================] - 8s 11ms/step - loss: 0.3476 - accuracy: 0.8825 - val_loss: 0.6346 - val_accuracy: 0.8202\n",
            "Epoch 45/50\n",
            "782/782 [==============================] - 8s 10ms/step - loss: 0.3434 - accuracy: 0.8840 - val_loss: 0.6749 - val_accuracy: 0.8148\n",
            "Epoch 46/50\n",
            "782/782 [==============================] - 8s 10ms/step - loss: 0.3394 - accuracy: 0.8860 - val_loss: 0.6378 - val_accuracy: 0.8214\n",
            "Epoch 47/50\n",
            "782/782 [==============================] - 8s 10ms/step - loss: 0.3394 - accuracy: 0.8869 - val_loss: 0.6309 - val_accuracy: 0.8150\n",
            "Epoch 48/50\n",
            "782/782 [==============================] - 8s 10ms/step - loss: 0.3359 - accuracy: 0.8871 - val_loss: 0.5730 - val_accuracy: 0.8338\n",
            "Epoch 49/50\n",
            "782/782 [==============================] - 8s 10ms/step - loss: 0.3401 - accuracy: 0.8866 - val_loss: 0.6678 - val_accuracy: 0.8232\n",
            "Epoch 50/50\n",
            "782/782 [==============================] - 8s 11ms/step - loss: 0.3255 - accuracy: 0.8898 - val_loss: 0.9058 - val_accuracy: 0.7616\n",
            "Test loss: 0.5704171657562256\n",
            "Test accuracy: 0.8413000106811523\n"
          ]
        }
      ]
    },
    {
      "cell_type": "markdown",
      "source": [
        "Step 5: Remove Batch Normalization Layers"
      ],
      "metadata": {
        "id": "0v830OpG4w43"
      }
    },
    {
      "cell_type": "code",
      "source": [
        "model6 = Sequential()\n",
        "model6.add(Conv2D(filters = 32, kernel_size = (3,3), padding='same', input_shape = input_shape))\n",
        "model6.add(Activation('relu'))\n",
        "model6.add(Conv2D(filters = 32, kernel_size = (3,3), padding='same'))\n",
        "model6.add(Activation('relu'))\n",
        "model6.add(MaxPooling2D(2,2))\n",
        "model6.add(Dropout(0.2))\n",
        "\n",
        "model6.add(Conv2D(filters = 64, kernel_size = (3,3), padding='same'))\n",
        "model6.add(Activation('relu'))\n",
        "model6.add(Conv2D(filters = 64, kernel_size = (3,3), padding='same'))\n",
        "model6.add(Activation('relu'))\n",
        "model6.add(MaxPooling2D(2,2))\n",
        "model6.add(Dropout(0.3))\n",
        "\n",
        "model6.add(Conv2D(filters = 128, kernel_size = (3,3), padding='same'))\n",
        "model6.add(Activation('relu'))\n",
        "model6.add(Conv2D(filters = 128, kernel_size = (3,3), padding='same'))\n",
        "model6.add(Activation('relu'))\n",
        "model6.add(MaxPooling2D(2,2))\n",
        "model6.add(Dropout(0.4))\n",
        "\n",
        "model6.add(Flatten())\n",
        "\n",
        "model6.add(Dense(units = 10, activation = 'softmax'))"
      ],
      "metadata": {
        "id": "TsM60-uQ44U1"
      },
      "execution_count": null,
      "outputs": []
    },
    {
      "cell_type": "code",
      "source": [
        "# https://keras.io/optimizers/\n",
        "model6.compile(loss=keras.losses.categorical_crossentropy, optimizer=keras.optimizers.Adam(lr=0.01), metrics=['accuracy'])"
      ],
      "metadata": {
        "colab": {
          "base_uri": "https://localhost:8080/"
        },
        "id": "ujHQs1Ag44XY",
        "outputId": "ab459b13-7854-4469-b30e-5e63d10ab3a2"
      },
      "execution_count": null,
      "outputs": [
        {
          "output_type": "stream",
          "name": "stderr",
          "text": [
            "/usr/local/lib/python3.8/dist-packages/keras/optimizers/optimizer_v2/adam.py:110: UserWarning: The `lr` argument is deprecated, use `learning_rate` instead.\n",
            "  super(Adam, self).__init__(name, **kwargs)\n"
          ]
        }
      ]
    },
    {
      "cell_type": "code",
      "source": [
        "model6.fit(x_train, y_train, batch_size=batch_size, epochs=epochs, verbose=1, validation_data=(x_test, y_test))\n",
        "score = model6.evaluate(x_test, y_test, verbose=0)\n",
        "print('Test loss:', score[0])\n",
        "print('Test accuracy:', score[1])"
      ],
      "metadata": {
        "colab": {
          "base_uri": "https://localhost:8080/"
        },
        "id": "U3CLYszY44aD",
        "outputId": "9c99879c-9a9e-4169-9eb1-c0d0e62bdfbd"
      },
      "execution_count": null,
      "outputs": [
        {
          "output_type": "stream",
          "name": "stdout",
          "text": [
            "Epoch 1/50\n",
            "782/782 [==============================] - 8s 9ms/step - loss: 2.3200 - accuracy: 0.1000 - val_loss: 2.3032 - val_accuracy: 0.1000\n",
            "Epoch 2/50\n",
            "782/782 [==============================] - 7s 8ms/step - loss: 2.3037 - accuracy: 0.0964 - val_loss: 2.3035 - val_accuracy: 0.1000\n",
            "Epoch 3/50\n",
            "782/782 [==============================] - 6s 8ms/step - loss: 2.3036 - accuracy: 0.1015 - val_loss: 2.3029 - val_accuracy: 0.1000\n",
            "Epoch 4/50\n",
            "782/782 [==============================] - 7s 8ms/step - loss: 2.3037 - accuracy: 0.0985 - val_loss: 2.3030 - val_accuracy: 0.1000\n",
            "Epoch 5/50\n",
            "782/782 [==============================] - 7s 8ms/step - loss: 2.3036 - accuracy: 0.0991 - val_loss: 2.3031 - val_accuracy: 0.1000\n",
            "Epoch 6/50\n",
            "782/782 [==============================] - 7s 8ms/step - loss: 2.3036 - accuracy: 0.0986 - val_loss: 2.3036 - val_accuracy: 0.1000\n",
            "Epoch 7/50\n",
            "782/782 [==============================] - 7s 9ms/step - loss: 2.3035 - accuracy: 0.1013 - val_loss: 2.3036 - val_accuracy: 0.1000\n",
            "Epoch 8/50\n",
            "782/782 [==============================] - 7s 8ms/step - loss: 2.3036 - accuracy: 0.0972 - val_loss: 2.3030 - val_accuracy: 0.1000\n",
            "Epoch 9/50\n",
            "782/782 [==============================] - 7s 8ms/step - loss: 2.3035 - accuracy: 0.0978 - val_loss: 2.3037 - val_accuracy: 0.1000\n",
            "Epoch 10/50\n",
            "782/782 [==============================] - 6s 8ms/step - loss: 2.3035 - accuracy: 0.0998 - val_loss: 2.3030 - val_accuracy: 0.1000\n",
            "Epoch 11/50\n",
            "782/782 [==============================] - 6s 8ms/step - loss: 2.3035 - accuracy: 0.0999 - val_loss: 2.3038 - val_accuracy: 0.1000\n",
            "Epoch 12/50\n",
            "782/782 [==============================] - 6s 8ms/step - loss: 2.3037 - accuracy: 0.0974 - val_loss: 2.3029 - val_accuracy: 0.1000\n",
            "Epoch 13/50\n",
            "782/782 [==============================] - 6s 8ms/step - loss: 2.3035 - accuracy: 0.0988 - val_loss: 2.3042 - val_accuracy: 0.1000\n",
            "Epoch 14/50\n",
            "782/782 [==============================] - 7s 9ms/step - loss: 2.3036 - accuracy: 0.0972 - val_loss: 2.3035 - val_accuracy: 0.1000\n",
            "Epoch 15/50\n",
            "782/782 [==============================] - 6s 8ms/step - loss: 2.3035 - accuracy: 0.1008 - val_loss: 2.3032 - val_accuracy: 0.1000\n",
            "Epoch 16/50\n",
            "782/782 [==============================] - 6s 8ms/step - loss: 2.3037 - accuracy: 0.0990 - val_loss: 2.3033 - val_accuracy: 0.1000\n",
            "Epoch 17/50\n",
            "782/782 [==============================] - 6s 8ms/step - loss: 2.3038 - accuracy: 0.0996 - val_loss: 2.3028 - val_accuracy: 0.1000\n",
            "Epoch 18/50\n",
            "782/782 [==============================] - 6s 8ms/step - loss: 2.3036 - accuracy: 0.0986 - val_loss: 2.3028 - val_accuracy: 0.1000\n",
            "Epoch 19/50\n",
            "782/782 [==============================] - 7s 9ms/step - loss: 2.3036 - accuracy: 0.0964 - val_loss: 2.3031 - val_accuracy: 0.1000\n",
            "Epoch 20/50\n",
            "782/782 [==============================] - 7s 8ms/step - loss: 2.3036 - accuracy: 0.0988 - val_loss: 2.3032 - val_accuracy: 0.1000\n",
            "Epoch 21/50\n",
            "782/782 [==============================] - 7s 9ms/step - loss: 2.3036 - accuracy: 0.0994 - val_loss: 2.3030 - val_accuracy: 0.1000\n",
            "Epoch 22/50\n",
            "782/782 [==============================] - 7s 8ms/step - loss: 2.3034 - accuracy: 0.0990 - val_loss: 2.3038 - val_accuracy: 0.1000\n",
            "Epoch 23/50\n",
            "782/782 [==============================] - 7s 9ms/step - loss: 2.3037 - accuracy: 0.1000 - val_loss: 2.3034 - val_accuracy: 0.1000\n",
            "Epoch 24/50\n",
            "782/782 [==============================] - 6s 8ms/step - loss: 2.3037 - accuracy: 0.0990 - val_loss: 2.3033 - val_accuracy: 0.1000\n",
            "Epoch 25/50\n",
            "782/782 [==============================] - 7s 8ms/step - loss: 2.3036 - accuracy: 0.1010 - val_loss: 2.3035 - val_accuracy: 0.1000\n",
            "Epoch 26/50\n",
            "782/782 [==============================] - 6s 8ms/step - loss: 2.3036 - accuracy: 0.0995 - val_loss: 2.3037 - val_accuracy: 0.1000\n",
            "Epoch 27/50\n",
            "782/782 [==============================] - 6s 8ms/step - loss: 2.3035 - accuracy: 0.0987 - val_loss: 2.3031 - val_accuracy: 0.1000\n",
            "Epoch 28/50\n",
            "782/782 [==============================] - 7s 9ms/step - loss: 2.3037 - accuracy: 0.1003 - val_loss: 2.3034 - val_accuracy: 0.1000\n",
            "Epoch 29/50\n",
            "782/782 [==============================] - 6s 8ms/step - loss: 2.3036 - accuracy: 0.1007 - val_loss: 2.3034 - val_accuracy: 0.1000\n",
            "Epoch 30/50\n",
            "782/782 [==============================] - 6s 8ms/step - loss: 2.3036 - accuracy: 0.0984 - val_loss: 2.3036 - val_accuracy: 0.1000\n",
            "Epoch 31/50\n",
            "782/782 [==============================] - 6s 8ms/step - loss: 2.3036 - accuracy: 0.0993 - val_loss: 2.3031 - val_accuracy: 0.1000\n",
            "Epoch 32/50\n",
            "782/782 [==============================] - 6s 8ms/step - loss: 2.3037 - accuracy: 0.0981 - val_loss: 2.3039 - val_accuracy: 0.1000\n",
            "Epoch 33/50\n",
            "782/782 [==============================] - 7s 8ms/step - loss: 2.3037 - accuracy: 0.0991 - val_loss: 2.3032 - val_accuracy: 0.1000\n",
            "Epoch 34/50\n",
            "782/782 [==============================] - 6s 8ms/step - loss: 2.3035 - accuracy: 0.0998 - val_loss: 2.3043 - val_accuracy: 0.1000\n",
            "Epoch 35/50\n",
            "782/782 [==============================] - 7s 9ms/step - loss: 2.3038 - accuracy: 0.0984 - val_loss: 2.3034 - val_accuracy: 0.1000\n",
            "Epoch 36/50\n",
            "782/782 [==============================] - 6s 8ms/step - loss: 2.3036 - accuracy: 0.0995 - val_loss: 2.3040 - val_accuracy: 0.1000\n",
            "Epoch 37/50\n",
            "782/782 [==============================] - 6s 8ms/step - loss: 2.3037 - accuracy: 0.0980 - val_loss: 2.3035 - val_accuracy: 0.1000\n",
            "Epoch 38/50\n",
            "782/782 [==============================] - 6s 8ms/step - loss: 2.3036 - accuracy: 0.0983 - val_loss: 2.3030 - val_accuracy: 0.1000\n",
            "Epoch 39/50\n",
            "782/782 [==============================] - 7s 8ms/step - loss: 2.3037 - accuracy: 0.0986 - val_loss: 2.3030 - val_accuracy: 0.1000\n",
            "Epoch 40/50\n",
            "782/782 [==============================] - 7s 8ms/step - loss: 2.3035 - accuracy: 0.1013 - val_loss: 2.3039 - val_accuracy: 0.1000\n",
            "Epoch 41/50\n",
            "782/782 [==============================] - 6s 8ms/step - loss: 2.3037 - accuracy: 0.0985 - val_loss: 2.3034 - val_accuracy: 0.1000\n",
            "Epoch 42/50\n",
            "782/782 [==============================] - 7s 9ms/step - loss: 2.3035 - accuracy: 0.0992 - val_loss: 2.3033 - val_accuracy: 0.1000\n",
            "Epoch 43/50\n",
            "782/782 [==============================] - 7s 8ms/step - loss: 2.3036 - accuracy: 0.0988 - val_loss: 2.3042 - val_accuracy: 0.1000\n",
            "Epoch 44/50\n",
            "782/782 [==============================] - 7s 8ms/step - loss: 2.3036 - accuracy: 0.1008 - val_loss: 2.3032 - val_accuracy: 0.1000\n",
            "Epoch 45/50\n",
            "782/782 [==============================] - 6s 8ms/step - loss: 2.3036 - accuracy: 0.1015 - val_loss: 2.3040 - val_accuracy: 0.1000\n",
            "Epoch 46/50\n",
            "782/782 [==============================] - 7s 8ms/step - loss: 2.3037 - accuracy: 0.0995 - val_loss: 2.3035 - val_accuracy: 0.1000\n",
            "Epoch 47/50\n",
            "782/782 [==============================] - 6s 8ms/step - loss: 2.3038 - accuracy: 0.0969 - val_loss: 2.3032 - val_accuracy: 0.1000\n",
            "Epoch 48/50\n",
            "782/782 [==============================] - 6s 8ms/step - loss: 2.3036 - accuracy: 0.0985 - val_loss: 2.3039 - val_accuracy: 0.1000\n",
            "Epoch 49/50\n",
            "782/782 [==============================] - 7s 9ms/step - loss: 2.3034 - accuracy: 0.1029 - val_loss: 2.3034 - val_accuracy: 0.1000\n",
            "Epoch 50/50\n",
            "782/782 [==============================] - 6s 8ms/step - loss: 2.3036 - accuracy: 0.1012 - val_loss: 2.3033 - val_accuracy: 0.1000\n",
            "Test loss: 2.303287982940674\n",
            "Test accuracy: 0.10000000149011612\n"
          ]
        }
      ]
    },
    {
      "cell_type": "markdown",
      "source": [
        "Step 6: Change Dropout values to 0.7"
      ],
      "metadata": {
        "id": "bYvfHYK-5JOl"
      }
    },
    {
      "cell_type": "code",
      "source": [
        "model7 = Sequential()\n",
        "model7.add(Conv2D(filters = 32, kernel_size = (3,3), padding='same', input_shape = input_shape))\n",
        "model7.add(Activation('relu'))\n",
        "model7.add(BatchNormalization())\n",
        "model7.add(Conv2D(filters = 32, kernel_size = (3,3), padding='same'))\n",
        "model7.add(Activation('relu'))\n",
        "model7.add(BatchNormalization())\n",
        "model7.add(MaxPooling2D(2,2))\n",
        "model7.add(Dropout(0.7))\n",
        "\n",
        "model7.add(Conv2D(filters = 64, kernel_size = (3,3), padding='same'))\n",
        "model7.add(Activation('relu'))\n",
        "model7.add(BatchNormalization())\n",
        "model7.add(Conv2D(filters = 64, kernel_size = (3,3), padding='same'))\n",
        "model7.add(Activation('relu'))\n",
        "model7.add(BatchNormalization())\n",
        "model7.add(MaxPooling2D(2,2))\n",
        "model7.add(Dropout(0.7))\n",
        "\n",
        "model7.add(Conv2D(filters = 128, kernel_size = (3,3), padding='same'))\n",
        "model7.add(Activation('relu'))\n",
        "model7.add(BatchNormalization())\n",
        "model7.add(Conv2D(filters = 128, kernel_size = (3,3), padding='same'))\n",
        "model7.add(Activation('relu'))\n",
        "model7.add(BatchNormalization())\n",
        "model7.add(MaxPooling2D(2,2))\n",
        "model7.add(Dropout(0.7))\n",
        "\n",
        "model7.add(Flatten())\n",
        "\n",
        "model7.add(Dense(units = 10, activation = 'softmax'))"
      ],
      "metadata": {
        "id": "gYXHGiVo5PeV"
      },
      "execution_count": null,
      "outputs": []
    },
    {
      "cell_type": "code",
      "source": [
        "# https://keras.io/optimizers/\n",
        "model7.compile(loss=keras.losses.categorical_crossentropy, optimizer=keras.optimizers.Adam(lr=0.01), metrics=['accuracy'])"
      ],
      "metadata": {
        "id": "7hZ2EPwh5PhM"
      },
      "execution_count": null,
      "outputs": []
    },
    {
      "cell_type": "code",
      "source": [
        "model7.fit(x_train, y_train, batch_size=batch_size, epochs=epochs, verbose=1, validation_data=(x_test, y_test))\n",
        "score = model7.evaluate(x_test, y_test, verbose=0)\n",
        "print('Test loss:', score[0])\n",
        "print('Test accuracy:', score[1])"
      ],
      "metadata": {
        "colab": {
          "base_uri": "https://localhost:8080/"
        },
        "id": "FFKIaZeC5Pj9",
        "outputId": "1c7ce3e2-d4df-476d-cdb7-319db065e19e"
      },
      "execution_count": null,
      "outputs": [
        {
          "output_type": "stream",
          "name": "stdout",
          "text": [
            "Epoch 1/50\n",
            "782/782 [==============================] - 9s 10ms/step - loss: 2.3877 - accuracy: 0.3274 - val_loss: 1.4309 - val_accuracy: 0.4772\n",
            "Epoch 2/50\n",
            "782/782 [==============================] - 7s 10ms/step - loss: 1.4750 - accuracy: 0.4602 - val_loss: 1.3020 - val_accuracy: 0.5327\n",
            "Epoch 3/50\n",
            "782/782 [==============================] - 8s 10ms/step - loss: 1.3195 - accuracy: 0.5262 - val_loss: 1.4064 - val_accuracy: 0.5188\n",
            "Epoch 4/50\n",
            "782/782 [==============================] - 8s 10ms/step - loss: 1.2403 - accuracy: 0.5562 - val_loss: 1.0591 - val_accuracy: 0.6213\n",
            "Epoch 5/50\n",
            "782/782 [==============================] - 8s 10ms/step - loss: 1.1889 - accuracy: 0.5782 - val_loss: 1.7011 - val_accuracy: 0.4876\n",
            "Epoch 6/50\n",
            "782/782 [==============================] - 8s 10ms/step - loss: 1.1545 - accuracy: 0.5909 - val_loss: 1.1402 - val_accuracy: 0.6176\n",
            "Epoch 7/50\n",
            "782/782 [==============================] - 8s 10ms/step - loss: 1.1375 - accuracy: 0.5974 - val_loss: 1.2573 - val_accuracy: 0.5621\n",
            "Epoch 8/50\n",
            "782/782 [==============================] - 8s 10ms/step - loss: 1.1057 - accuracy: 0.6093 - val_loss: 1.3348 - val_accuracy: 0.5683\n",
            "Epoch 9/50\n",
            "782/782 [==============================] - 8s 10ms/step - loss: 1.0755 - accuracy: 0.6228 - val_loss: 0.9201 - val_accuracy: 0.6652\n",
            "Epoch 10/50\n",
            "782/782 [==============================] - 8s 10ms/step - loss: 1.0611 - accuracy: 0.6293 - val_loss: 0.9373 - val_accuracy: 0.6718\n",
            "Epoch 11/50\n",
            "782/782 [==============================] - 8s 10ms/step - loss: 1.0255 - accuracy: 0.6414 - val_loss: 0.8862 - val_accuracy: 0.6923\n",
            "Epoch 12/50\n",
            "782/782 [==============================] - 7s 10ms/step - loss: 1.0073 - accuracy: 0.6487 - val_loss: 0.8124 - val_accuracy: 0.7156\n",
            "Epoch 13/50\n",
            "782/782 [==============================] - 8s 10ms/step - loss: 1.0031 - accuracy: 0.6523 - val_loss: 0.8386 - val_accuracy: 0.7100\n",
            "Epoch 14/50\n",
            "782/782 [==============================] - 7s 10ms/step - loss: 0.9832 - accuracy: 0.6597 - val_loss: 0.9394 - val_accuracy: 0.6843\n",
            "Epoch 15/50\n",
            "782/782 [==============================] - 8s 10ms/step - loss: 0.9736 - accuracy: 0.6629 - val_loss: 1.0074 - val_accuracy: 0.6571\n",
            "Epoch 16/50\n",
            "782/782 [==============================] - 8s 10ms/step - loss: 0.9519 - accuracy: 0.6684 - val_loss: 0.8027 - val_accuracy: 0.7186\n",
            "Epoch 17/50\n",
            "782/782 [==============================] - 8s 10ms/step - loss: 0.9454 - accuracy: 0.6726 - val_loss: 0.7730 - val_accuracy: 0.7271\n",
            "Epoch 18/50\n",
            "782/782 [==============================] - 7s 10ms/step - loss: 0.9291 - accuracy: 0.6760 - val_loss: 1.0097 - val_accuracy: 0.6585\n",
            "Epoch 19/50\n",
            "782/782 [==============================] - 8s 10ms/step - loss: 0.9342 - accuracy: 0.6759 - val_loss: 0.9718 - val_accuracy: 0.6765\n",
            "Epoch 20/50\n",
            "782/782 [==============================] - 8s 10ms/step - loss: 0.9243 - accuracy: 0.6790 - val_loss: 1.5779 - val_accuracy: 0.5263\n",
            "Epoch 21/50\n",
            "782/782 [==============================] - 8s 10ms/step - loss: 0.9106 - accuracy: 0.6842 - val_loss: 0.7079 - val_accuracy: 0.7497\n",
            "Epoch 22/50\n",
            "782/782 [==============================] - 8s 10ms/step - loss: 0.8989 - accuracy: 0.6878 - val_loss: 0.7755 - val_accuracy: 0.7324\n",
            "Epoch 23/50\n",
            "782/782 [==============================] - 8s 10ms/step - loss: 0.8908 - accuracy: 0.6901 - val_loss: 0.7652 - val_accuracy: 0.7327\n",
            "Epoch 24/50\n",
            "782/782 [==============================] - 8s 10ms/step - loss: 0.8912 - accuracy: 0.6929 - val_loss: 0.8721 - val_accuracy: 0.7040\n",
            "Epoch 25/50\n",
            "782/782 [==============================] - 8s 10ms/step - loss: 0.8835 - accuracy: 0.6961 - val_loss: 0.7233 - val_accuracy: 0.7545\n",
            "Epoch 26/50\n",
            "782/782 [==============================] - 7s 10ms/step - loss: 0.8714 - accuracy: 0.6999 - val_loss: 0.7670 - val_accuracy: 0.7300\n",
            "Epoch 27/50\n",
            "782/782 [==============================] - 8s 10ms/step - loss: 0.8679 - accuracy: 0.7017 - val_loss: 1.1187 - val_accuracy: 0.6365\n",
            "Epoch 28/50\n",
            "782/782 [==============================] - 8s 10ms/step - loss: 0.8671 - accuracy: 0.7008 - val_loss: 0.7644 - val_accuracy: 0.7377\n",
            "Epoch 29/50\n",
            "782/782 [==============================] - 8s 10ms/step - loss: 0.8587 - accuracy: 0.7037 - val_loss: 0.7945 - val_accuracy: 0.7331\n",
            "Epoch 30/50\n",
            "782/782 [==============================] - 8s 10ms/step - loss: 0.8508 - accuracy: 0.7044 - val_loss: 0.8540 - val_accuracy: 0.7138\n",
            "Epoch 31/50\n",
            "782/782 [==============================] - 8s 10ms/step - loss: 0.8449 - accuracy: 0.7086 - val_loss: 0.7228 - val_accuracy: 0.7541\n",
            "Epoch 32/50\n",
            "782/782 [==============================] - 8s 10ms/step - loss: 0.8450 - accuracy: 0.7075 - val_loss: 1.1474 - val_accuracy: 0.6453\n",
            "Epoch 33/50\n",
            "782/782 [==============================] - 8s 10ms/step - loss: 0.8414 - accuracy: 0.7116 - val_loss: 0.7334 - val_accuracy: 0.7542\n",
            "Epoch 34/50\n",
            "782/782 [==============================] - 8s 10ms/step - loss: 0.8376 - accuracy: 0.7107 - val_loss: 0.7487 - val_accuracy: 0.7450\n",
            "Epoch 35/50\n",
            "782/782 [==============================] - 8s 10ms/step - loss: 0.8277 - accuracy: 0.7163 - val_loss: 0.8749 - val_accuracy: 0.7215\n",
            "Epoch 36/50\n",
            "782/782 [==============================] - 8s 10ms/step - loss: 0.8277 - accuracy: 0.7140 - val_loss: 0.7061 - val_accuracy: 0.7652\n",
            "Epoch 37/50\n",
            "782/782 [==============================] - 8s 10ms/step - loss: 0.8241 - accuracy: 0.7157 - val_loss: 0.7511 - val_accuracy: 0.7494\n",
            "Epoch 38/50\n",
            "782/782 [==============================] - 8s 10ms/step - loss: 0.8066 - accuracy: 0.7191 - val_loss: 0.8481 - val_accuracy: 0.7293\n",
            "Epoch 39/50\n",
            "782/782 [==============================] - 8s 11ms/step - loss: 0.8188 - accuracy: 0.7174 - val_loss: 0.7564 - val_accuracy: 0.7518\n",
            "Epoch 40/50\n",
            "782/782 [==============================] - 8s 10ms/step - loss: 0.8112 - accuracy: 0.7223 - val_loss: 0.6395 - val_accuracy: 0.7840\n",
            "Epoch 41/50\n",
            "782/782 [==============================] - 8s 10ms/step - loss: 0.8142 - accuracy: 0.7194 - val_loss: 0.7286 - val_accuracy: 0.7514\n",
            "Epoch 42/50\n",
            "782/782 [==============================] - 8s 10ms/step - loss: 0.8092 - accuracy: 0.7193 - val_loss: 0.6466 - val_accuracy: 0.7847\n",
            "Epoch 43/50\n",
            "782/782 [==============================] - 8s 10ms/step - loss: 0.8055 - accuracy: 0.7227 - val_loss: 0.6204 - val_accuracy: 0.7881\n",
            "Epoch 44/50\n",
            "782/782 [==============================] - 8s 10ms/step - loss: 0.8069 - accuracy: 0.7226 - val_loss: 0.7010 - val_accuracy: 0.7714\n",
            "Epoch 45/50\n",
            "782/782 [==============================] - 8s 10ms/step - loss: 0.7983 - accuracy: 0.7254 - val_loss: 0.8936 - val_accuracy: 0.7207\n",
            "Epoch 46/50\n",
            "782/782 [==============================] - 7s 10ms/step - loss: 0.7984 - accuracy: 0.7257 - val_loss: 0.6996 - val_accuracy: 0.7705\n",
            "Epoch 47/50\n",
            "782/782 [==============================] - 8s 10ms/step - loss: 0.7961 - accuracy: 0.7247 - val_loss: 0.7091 - val_accuracy: 0.7612\n",
            "Epoch 48/50\n",
            "782/782 [==============================] - 8s 10ms/step - loss: 0.7965 - accuracy: 0.7264 - val_loss: 0.5708 - val_accuracy: 0.8044\n",
            "Epoch 49/50\n",
            "782/782 [==============================] - 8s 10ms/step - loss: 0.7861 - accuracy: 0.7319 - val_loss: 0.8483 - val_accuracy: 0.7167\n",
            "Epoch 50/50\n",
            "782/782 [==============================] - 8s 11ms/step - loss: 0.7817 - accuracy: 0.7328 - val_loss: 0.6673 - val_accuracy: 0.7801\n",
            "Test loss: 0.6672565937042236\n",
            "Test accuracy: 0.7800999879837036\n"
          ]
        }
      ]
    },
    {
      "cell_type": "markdown",
      "source": [
        "Step 7.1: Change the batch size to 16"
      ],
      "metadata": {
        "id": "eOPSXYVk58pF"
      }
    },
    {
      "cell_type": "code",
      "source": [
        "batch_size = 16\n",
        "num_classes = 10\n",
        "epochs = 50"
      ],
      "metadata": {
        "id": "qr7IYRHm6Odm"
      },
      "execution_count": null,
      "outputs": []
    },
    {
      "cell_type": "code",
      "source": [
        "model8 = Sequential()\n",
        "model8.add(Conv2D(filters = 32, kernel_size = (3,3), padding='same', input_shape = input_shape))\n",
        "model8.add(Activation('relu'))\n",
        "model8.add(BatchNormalization())\n",
        "model8.add(Conv2D(filters = 32, kernel_size = (3,3), padding='same'))\n",
        "model8.add(Activation('relu'))\n",
        "model8.add(BatchNormalization())\n",
        "model8.add(MaxPooling2D(2,2))\n",
        "model8.add(Dropout(0.2))\n",
        "\n",
        "model8.add(Conv2D(filters = 64, kernel_size = (3,3), padding='same'))\n",
        "model8.add(Activation('relu'))\n",
        "model8.add(BatchNormalization())\n",
        "model8.add(Conv2D(filters = 64, kernel_size = (3,3), padding='same'))\n",
        "model8.add(Activation('relu'))\n",
        "model8.add(BatchNormalization())\n",
        "model8.add(MaxPooling2D(2,2))\n",
        "model8.add(Dropout(0.3))\n",
        "\n",
        "model8.add(Conv2D(filters = 128, kernel_size = (3,3), padding='same'))\n",
        "model8.add(Activation('relu'))\n",
        "model8.add(BatchNormalization())\n",
        "model8.add(Conv2D(filters = 128, kernel_size = (3,3), padding='same'))\n",
        "model8.add(Activation('relu'))\n",
        "model8.add(BatchNormalization())\n",
        "model8.add(MaxPooling2D(2,2))\n",
        "model8.add(Dropout(0.4))\n",
        "\n",
        "model8.add(Flatten())\n",
        "\n",
        "model8.add(Dense(units = 10, activation = 'softmax'))"
      ],
      "metadata": {
        "id": "CKwO74pG6OjU"
      },
      "execution_count": null,
      "outputs": []
    },
    {
      "cell_type": "code",
      "source": [
        "# https://keras.io/optimizers/\n",
        "model8.compile(loss=keras.losses.categorical_crossentropy, optimizer=keras.optimizers.Adam(lr=0.01), metrics=['accuracy'])"
      ],
      "metadata": {
        "colab": {
          "base_uri": "https://localhost:8080/"
        },
        "id": "GotNdrCK6Oo2",
        "outputId": "c7064a77-4e11-4493-e160-4265b7d909bf"
      },
      "execution_count": null,
      "outputs": [
        {
          "output_type": "stream",
          "name": "stderr",
          "text": [
            "/usr/local/lib/python3.8/dist-packages/keras/optimizers/optimizer_v2/adam.py:110: UserWarning: The `lr` argument is deprecated, use `learning_rate` instead.\n",
            "  super(Adam, self).__init__(name, **kwargs)\n"
          ]
        }
      ]
    },
    {
      "cell_type": "code",
      "source": [
        "model8.fit(x_train, y_train, batch_size=batch_size, epochs=epochs, verbose=1, validation_data=(x_test, y_test))\n",
        "score = model8.evaluate(x_test, y_test, verbose=0)\n",
        "print('Test loss:', score[0])\n",
        "print('Test accuracy:', score[1])"
      ],
      "metadata": {
        "colab": {
          "base_uri": "https://localhost:8080/"
        },
        "id": "lgsoNmX06OuW",
        "outputId": "5a83114e-9030-4a2a-ffda-f6290a406965"
      },
      "execution_count": null,
      "outputs": [
        {
          "output_type": "stream",
          "name": "stdout",
          "text": [
            "Epoch 1/50\n",
            "3125/3125 [==============================] - 19s 6ms/step - loss: 0.4539 - accuracy: 0.8575 - val_loss: 0.6182 - val_accuracy: 0.8321\n",
            "Epoch 2/50\n",
            "3125/3125 [==============================] - 19s 6ms/step - loss: 0.4511 - accuracy: 0.8566 - val_loss: 0.6009 - val_accuracy: 0.8403\n",
            "Epoch 3/50\n",
            "3125/3125 [==============================] - 19s 6ms/step - loss: 0.4489 - accuracy: 0.8589 - val_loss: 0.5872 - val_accuracy: 0.8384\n",
            "Epoch 4/50\n",
            "3125/3125 [==============================] - 18s 6ms/step - loss: 0.4463 - accuracy: 0.8594 - val_loss: 0.6179 - val_accuracy: 0.8327\n",
            "Epoch 5/50\n",
            "3125/3125 [==============================] - 19s 6ms/step - loss: 0.4482 - accuracy: 0.8584 - val_loss: 0.6300 - val_accuracy: 0.8312\n",
            "Epoch 6/50\n",
            "3125/3125 [==============================] - 19s 6ms/step - loss: 0.4482 - accuracy: 0.8597 - val_loss: 0.6187 - val_accuracy: 0.8350\n",
            "Epoch 7/50\n",
            "3125/3125 [==============================] - 18s 6ms/step - loss: 0.4430 - accuracy: 0.8606 - val_loss: 0.6572 - val_accuracy: 0.8211\n",
            "Epoch 8/50\n",
            "3125/3125 [==============================] - 18s 6ms/step - loss: 0.4382 - accuracy: 0.8612 - val_loss: 0.5997 - val_accuracy: 0.8370\n",
            "Epoch 9/50\n",
            "3125/3125 [==============================] - 19s 6ms/step - loss: 0.4414 - accuracy: 0.8626 - val_loss: 0.6601 - val_accuracy: 0.8281\n",
            "Epoch 10/50\n",
            "3125/3125 [==============================] - 17s 6ms/step - loss: 0.4299 - accuracy: 0.8651 - val_loss: 0.5891 - val_accuracy: 0.8402\n",
            "Epoch 11/50\n",
            "3125/3125 [==============================] - 18s 6ms/step - loss: 0.4390 - accuracy: 0.8645 - val_loss: 0.6752 - val_accuracy: 0.8223\n",
            "Epoch 12/50\n",
            "3125/3125 [==============================] - 18s 6ms/step - loss: 0.4314 - accuracy: 0.8649 - val_loss: 0.7705 - val_accuracy: 0.8067\n",
            "Epoch 13/50\n",
            "3125/3125 [==============================] - 18s 6ms/step - loss: 0.4247 - accuracy: 0.8663 - val_loss: 0.6490 - val_accuracy: 0.8346\n",
            "Epoch 14/50\n",
            "3125/3125 [==============================] - 17s 6ms/step - loss: 0.4229 - accuracy: 0.8692 - val_loss: 0.6055 - val_accuracy: 0.8420\n",
            "Epoch 15/50\n",
            "3125/3125 [==============================] - 19s 6ms/step - loss: 0.4261 - accuracy: 0.8687 - val_loss: 0.5465 - val_accuracy: 0.8496\n",
            "Epoch 16/50\n",
            "3125/3125 [==============================] - 18s 6ms/step - loss: 0.4226 - accuracy: 0.8682 - val_loss: 0.6899 - val_accuracy: 0.8258\n",
            "Epoch 17/50\n",
            "3125/3125 [==============================] - 17s 6ms/step - loss: 0.4255 - accuracy: 0.8677 - val_loss: 0.6480 - val_accuracy: 0.8411\n",
            "Epoch 18/50\n",
            "3125/3125 [==============================] - 18s 6ms/step - loss: 0.4185 - accuracy: 0.8699 - val_loss: 0.6320 - val_accuracy: 0.8353\n",
            "Epoch 19/50\n",
            "3125/3125 [==============================] - 18s 6ms/step - loss: 0.4181 - accuracy: 0.8691 - val_loss: 0.6320 - val_accuracy: 0.8363\n",
            "Epoch 20/50\n",
            "3125/3125 [==============================] - 19s 6ms/step - loss: 0.4206 - accuracy: 0.8689 - val_loss: 0.5905 - val_accuracy: 0.8442\n",
            "Epoch 21/50\n",
            "3125/3125 [==============================] - 19s 6ms/step - loss: 0.4193 - accuracy: 0.8711 - val_loss: 0.6508 - val_accuracy: 0.8286\n",
            "Epoch 22/50\n",
            "3125/3125 [==============================] - 22s 7ms/step - loss: 0.4166 - accuracy: 0.8705 - val_loss: 0.6868 - val_accuracy: 0.8294\n",
            "Epoch 23/50\n",
            "3125/3125 [==============================] - 18s 6ms/step - loss: 0.4128 - accuracy: 0.8729 - val_loss: 0.6641 - val_accuracy: 0.8347\n",
            "Epoch 24/50\n",
            "3125/3125 [==============================] - 19s 6ms/step - loss: 0.4147 - accuracy: 0.8743 - val_loss: 0.7376 - val_accuracy: 0.8255\n",
            "Epoch 25/50\n",
            "3125/3125 [==============================] - 19s 6ms/step - loss: 0.4188 - accuracy: 0.8710 - val_loss: 0.6185 - val_accuracy: 0.8417\n",
            "Epoch 26/50\n",
            "3125/3125 [==============================] - 18s 6ms/step - loss: 0.4095 - accuracy: 0.8750 - val_loss: 0.6392 - val_accuracy: 0.8390\n",
            "Epoch 27/50\n",
            "3125/3125 [==============================] - 19s 6ms/step - loss: 0.4076 - accuracy: 0.8744 - val_loss: 0.6470 - val_accuracy: 0.8455\n",
            "Epoch 28/50\n",
            "3125/3125 [==============================] - 19s 6ms/step - loss: 0.4035 - accuracy: 0.8780 - val_loss: 0.6111 - val_accuracy: 0.8429\n",
            "Epoch 29/50\n",
            "3125/3125 [==============================] - 17s 6ms/step - loss: 0.4093 - accuracy: 0.8749 - val_loss: 0.6630 - val_accuracy: 0.8367\n",
            "Epoch 30/50\n",
            "3125/3125 [==============================] - 19s 6ms/step - loss: 0.4031 - accuracy: 0.8760 - val_loss: 0.6490 - val_accuracy: 0.8356\n",
            "Epoch 31/50\n",
            "3125/3125 [==============================] - 18s 6ms/step - loss: 0.4039 - accuracy: 0.8779 - val_loss: 0.6165 - val_accuracy: 0.8443\n",
            "Epoch 32/50\n",
            "3125/3125 [==============================] - 17s 6ms/step - loss: 0.4000 - accuracy: 0.8779 - val_loss: 0.6608 - val_accuracy: 0.8399\n",
            "Epoch 33/50\n",
            "3125/3125 [==============================] - 18s 6ms/step - loss: 0.4037 - accuracy: 0.8779 - val_loss: 0.6582 - val_accuracy: 0.8392\n",
            "Epoch 34/50\n",
            "3125/3125 [==============================] - 19s 6ms/step - loss: 0.4020 - accuracy: 0.8776 - val_loss: 0.6388 - val_accuracy: 0.8422\n",
            "Epoch 35/50\n",
            "3125/3125 [==============================] - 18s 6ms/step - loss: 0.3992 - accuracy: 0.8783 - val_loss: 0.6510 - val_accuracy: 0.8439\n",
            "Epoch 36/50\n",
            "3125/3125 [==============================] - 19s 6ms/step - loss: 0.3994 - accuracy: 0.8771 - val_loss: 0.6139 - val_accuracy: 0.8463\n",
            "Epoch 37/50\n",
            "3125/3125 [==============================] - 19s 6ms/step - loss: 0.3967 - accuracy: 0.8810 - val_loss: 0.6335 - val_accuracy: 0.8467\n",
            "Epoch 38/50\n",
            "3125/3125 [==============================] - 18s 6ms/step - loss: 0.3953 - accuracy: 0.8798 - val_loss: 0.6035 - val_accuracy: 0.8428\n",
            "Epoch 39/50\n",
            "3125/3125 [==============================] - 18s 6ms/step - loss: 0.3878 - accuracy: 0.8825 - val_loss: 0.7342 - val_accuracy: 0.8280\n",
            "Epoch 40/50\n",
            "3125/3125 [==============================] - 17s 6ms/step - loss: 0.3940 - accuracy: 0.8819 - val_loss: 0.6090 - val_accuracy: 0.8507\n",
            "Epoch 41/50\n",
            "3125/3125 [==============================] - 18s 6ms/step - loss: 0.3929 - accuracy: 0.8815 - val_loss: 0.6556 - val_accuracy: 0.8401\n",
            "Epoch 42/50\n",
            "3125/3125 [==============================] - 18s 6ms/step - loss: 0.3941 - accuracy: 0.8805 - val_loss: 0.6175 - val_accuracy: 0.8460\n",
            "Epoch 43/50\n",
            "3125/3125 [==============================] - 18s 6ms/step - loss: 0.3850 - accuracy: 0.8826 - val_loss: 0.7832 - val_accuracy: 0.8249\n",
            "Epoch 44/50\n",
            "3125/3125 [==============================] - 18s 6ms/step - loss: 0.3912 - accuracy: 0.8824 - val_loss: 0.6511 - val_accuracy: 0.8450\n",
            "Epoch 45/50\n",
            "3125/3125 [==============================] - 17s 6ms/step - loss: 0.3909 - accuracy: 0.8818 - val_loss: 0.6871 - val_accuracy: 0.8438\n",
            "Epoch 46/50\n",
            "3125/3125 [==============================] - 19s 6ms/step - loss: 0.3837 - accuracy: 0.8830 - val_loss: 0.7388 - val_accuracy: 0.8356\n",
            "Epoch 47/50\n",
            "3125/3125 [==============================] - 19s 6ms/step - loss: 0.3798 - accuracy: 0.8857 - val_loss: 0.6529 - val_accuracy: 0.8498\n",
            "Epoch 48/50\n",
            "3125/3125 [==============================] - 18s 6ms/step - loss: 0.3953 - accuracy: 0.8814 - val_loss: 0.6493 - val_accuracy: 0.8399\n",
            "Epoch 49/50\n",
            "3125/3125 [==============================] - 19s 6ms/step - loss: 0.3790 - accuracy: 0.8857 - val_loss: 0.6474 - val_accuracy: 0.8482\n",
            "Epoch 50/50\n",
            "3125/3125 [==============================] - 18s 6ms/step - loss: 0.3802 - accuracy: 0.8869 - val_loss: 0.6166 - val_accuracy: 0.8481\n",
            "Test loss: 0.6165658831596375\n",
            "Test accuracy: 0.8481000065803528\n"
          ]
        }
      ]
    },
    {
      "cell_type": "markdown",
      "source": [
        "Step 7.2: Change batch size to 256"
      ],
      "metadata": {
        "id": "tPEa-ZwC6ggJ"
      }
    },
    {
      "cell_type": "code",
      "source": [
        "batch_size = 256\n",
        "num_classes = 10\n",
        "epochs = 50"
      ],
      "metadata": {
        "id": "l81ErTMT6oOO"
      },
      "execution_count": null,
      "outputs": []
    },
    {
      "cell_type": "code",
      "source": [
        "model9 = Sequential()\n",
        "model9.add(Conv2D(filters = 32, kernel_size = (3,3), padding='same', input_shape = input_shape))\n",
        "model9.add(Activation('relu'))\n",
        "model9.add(BatchNormalization())\n",
        "model9.add(Conv2D(filters = 32, kernel_size = (3,3), padding='same'))\n",
        "model9.add(Activation('relu'))\n",
        "model9.add(BatchNormalization())\n",
        "model9.add(MaxPooling2D(2,2))\n",
        "model9.add(Dropout(0.2))\n",
        "\n",
        "model9.add(Conv2D(filters = 64, kernel_size = (3,3), padding='same'))\n",
        "model9.add(Activation('relu'))\n",
        "model9.add(BatchNormalization())\n",
        "model9.add(Conv2D(filters = 64, kernel_size = (3,3), padding='same'))\n",
        "model9.add(Activation('relu'))\n",
        "model9.add(BatchNormalization())\n",
        "model9.add(MaxPooling2D(2,2))\n",
        "model9.add(Dropout(0.3))\n",
        "\n",
        "model9.add(Conv2D(filters = 128, kernel_size = (3,3), padding='same'))\n",
        "model9.add(Activation('relu'))\n",
        "model9.add(BatchNormalization())\n",
        "model9.add(Conv2D(filters = 128, kernel_size = (3,3), padding='same'))\n",
        "model9.add(Activation('relu'))\n",
        "model9.add(BatchNormalization())\n",
        "model9.add(MaxPooling2D(2,2))\n",
        "model9.add(Dropout(0.4))\n",
        "\n",
        "model9.add(Flatten())\n",
        "\n",
        "model9.add(Dense(units = 10, activation = 'softmax'))"
      ],
      "metadata": {
        "id": "O0UR-jbv6oTl"
      },
      "execution_count": null,
      "outputs": []
    },
    {
      "cell_type": "code",
      "source": [
        "# https://keras.io/optimizers/\n",
        "model9.compile(loss=keras.losses.categorical_crossentropy, optimizer=keras.optimizers.Adam(lr=0.01), metrics=['accuracy'])"
      ],
      "metadata": {
        "id": "KTDMzP4C6oWO"
      },
      "execution_count": null,
      "outputs": []
    },
    {
      "cell_type": "code",
      "source": [
        "model9.fit(x_train, y_train, batch_size=batch_size, epochs=epochs, verbose=1, validation_data=(x_test, y_test))\n",
        "score = model9.evaluate(x_test, y_test, verbose=0)\n",
        "print('Test loss:', score[0])\n",
        "print('Test accuracy:', score[1])"
      ],
      "metadata": {
        "colab": {
          "base_uri": "https://localhost:8080/"
        },
        "id": "zCQMmI5K6oYp",
        "outputId": "2db22146-83ec-4872-cec8-efbcc08ed61f"
      },
      "execution_count": null,
      "outputs": [
        {
          "output_type": "stream",
          "name": "stdout",
          "text": [
            "Epoch 1/50\n",
            "196/196 [==============================] - 8s 35ms/step - loss: 2.6537 - accuracy: 0.3225 - val_loss: 3.5161 - val_accuracy: 0.2168\n",
            "Epoch 2/50\n",
            "196/196 [==============================] - 6s 30ms/step - loss: 1.6006 - accuracy: 0.4561 - val_loss: 1.4125 - val_accuracy: 0.4779\n",
            "Epoch 3/50\n",
            "196/196 [==============================] - 6s 30ms/step - loss: 1.3185 - accuracy: 0.5247 - val_loss: 1.6365 - val_accuracy: 0.4575\n",
            "Epoch 4/50\n",
            "196/196 [==============================] - 6s 30ms/step - loss: 1.1477 - accuracy: 0.5869 - val_loss: 1.1491 - val_accuracy: 0.6015\n",
            "Epoch 5/50\n",
            "196/196 [==============================] - 6s 30ms/step - loss: 1.0204 - accuracy: 0.6359 - val_loss: 1.1447 - val_accuracy: 0.6103\n",
            "Epoch 6/50\n",
            "196/196 [==============================] - 6s 30ms/step - loss: 0.9320 - accuracy: 0.6678 - val_loss: 0.9911 - val_accuracy: 0.6631\n",
            "Epoch 7/50\n",
            "196/196 [==============================] - 6s 30ms/step - loss: 0.8634 - accuracy: 0.6947 - val_loss: 0.8760 - val_accuracy: 0.6995\n",
            "Epoch 8/50\n",
            "196/196 [==============================] - 6s 30ms/step - loss: 0.8103 - accuracy: 0.7152 - val_loss: 0.7719 - val_accuracy: 0.7320\n",
            "Epoch 9/50\n",
            "196/196 [==============================] - 6s 30ms/step - loss: 0.7737 - accuracy: 0.7273 - val_loss: 0.7720 - val_accuracy: 0.7333\n",
            "Epoch 10/50\n",
            "196/196 [==============================] - 6s 31ms/step - loss: 0.7353 - accuracy: 0.7425 - val_loss: 0.7401 - val_accuracy: 0.7456\n",
            "Epoch 11/50\n",
            "196/196 [==============================] - 6s 30ms/step - loss: 0.7069 - accuracy: 0.7526 - val_loss: 0.6963 - val_accuracy: 0.7582\n",
            "Epoch 12/50\n",
            "196/196 [==============================] - 6s 31ms/step - loss: 0.6891 - accuracy: 0.7585 - val_loss: 0.7903 - val_accuracy: 0.7247\n",
            "Epoch 13/50\n",
            "196/196 [==============================] - 6s 30ms/step - loss: 0.6558 - accuracy: 0.7693 - val_loss: 0.7178 - val_accuracy: 0.7536\n",
            "Epoch 14/50\n",
            "196/196 [==============================] - 6s 30ms/step - loss: 0.6310 - accuracy: 0.7786 - val_loss: 0.6974 - val_accuracy: 0.7608\n",
            "Epoch 15/50\n",
            "196/196 [==============================] - 6s 30ms/step - loss: 0.6090 - accuracy: 0.7865 - val_loss: 0.6008 - val_accuracy: 0.7940\n",
            "Epoch 16/50\n",
            "196/196 [==============================] - 6s 30ms/step - loss: 0.5943 - accuracy: 0.7918 - val_loss: 0.7793 - val_accuracy: 0.7351\n",
            "Epoch 17/50\n",
            "196/196 [==============================] - 6s 31ms/step - loss: 0.5819 - accuracy: 0.7952 - val_loss: 0.6389 - val_accuracy: 0.7814\n",
            "Epoch 18/50\n",
            "196/196 [==============================] - 6s 30ms/step - loss: 0.5622 - accuracy: 0.8030 - val_loss: 0.7442 - val_accuracy: 0.7432\n",
            "Epoch 19/50\n",
            "196/196 [==============================] - 6s 30ms/step - loss: 0.5503 - accuracy: 0.8080 - val_loss: 0.6851 - val_accuracy: 0.7771\n",
            "Epoch 20/50\n",
            "196/196 [==============================] - 6s 30ms/step - loss: 0.5397 - accuracy: 0.8089 - val_loss: 0.5883 - val_accuracy: 0.8057\n",
            "Epoch 21/50\n",
            "196/196 [==============================] - 6s 30ms/step - loss: 0.5230 - accuracy: 0.8140 - val_loss: 0.7227 - val_accuracy: 0.7634\n",
            "Epoch 22/50\n",
            "196/196 [==============================] - 6s 30ms/step - loss: 0.5003 - accuracy: 0.8236 - val_loss: 0.6694 - val_accuracy: 0.7764\n",
            "Epoch 23/50\n",
            "196/196 [==============================] - 6s 30ms/step - loss: 0.4971 - accuracy: 0.8249 - val_loss: 0.6269 - val_accuracy: 0.7934\n",
            "Epoch 24/50\n",
            "196/196 [==============================] - 6s 31ms/step - loss: 0.4786 - accuracy: 0.8328 - val_loss: 0.5895 - val_accuracy: 0.8016\n",
            "Epoch 25/50\n",
            "196/196 [==============================] - 6s 30ms/step - loss: 0.4666 - accuracy: 0.8356 - val_loss: 0.7600 - val_accuracy: 0.7550\n",
            "Epoch 26/50\n",
            "196/196 [==============================] - 6s 30ms/step - loss: 0.4595 - accuracy: 0.8379 - val_loss: 0.6705 - val_accuracy: 0.7771\n",
            "Epoch 27/50\n",
            "196/196 [==============================] - 6s 30ms/step - loss: 0.4445 - accuracy: 0.8427 - val_loss: 0.6193 - val_accuracy: 0.7977\n",
            "Epoch 28/50\n",
            "196/196 [==============================] - 6s 30ms/step - loss: 0.4386 - accuracy: 0.8452 - val_loss: 0.5462 - val_accuracy: 0.8219\n",
            "Epoch 29/50\n",
            "196/196 [==============================] - 6s 30ms/step - loss: 0.4306 - accuracy: 0.8470 - val_loss: 0.5495 - val_accuracy: 0.8207\n",
            "Epoch 30/50\n",
            "196/196 [==============================] - 6s 30ms/step - loss: 0.4226 - accuracy: 0.8518 - val_loss: 0.5908 - val_accuracy: 0.8096\n",
            "Epoch 31/50\n",
            "196/196 [==============================] - 6s 31ms/step - loss: 0.4156 - accuracy: 0.8525 - val_loss: 0.6028 - val_accuracy: 0.8024\n",
            "Epoch 32/50\n",
            "196/196 [==============================] - 6s 30ms/step - loss: 0.4035 - accuracy: 0.8579 - val_loss: 0.5988 - val_accuracy: 0.8161\n",
            "Epoch 33/50\n",
            "196/196 [==============================] - 6s 30ms/step - loss: 0.4014 - accuracy: 0.8580 - val_loss: 0.5492 - val_accuracy: 0.8192\n",
            "Epoch 34/50\n",
            "196/196 [==============================] - 6s 30ms/step - loss: 0.3925 - accuracy: 0.8624 - val_loss: 0.7088 - val_accuracy: 0.7734\n",
            "Epoch 35/50\n",
            "196/196 [==============================] - 6s 30ms/step - loss: 0.3889 - accuracy: 0.8614 - val_loss: 0.5332 - val_accuracy: 0.8276\n",
            "Epoch 36/50\n",
            "196/196 [==============================] - 6s 32ms/step - loss: 0.3753 - accuracy: 0.8673 - val_loss: 0.6980 - val_accuracy: 0.7901\n",
            "Epoch 37/50\n",
            "196/196 [==============================] - 6s 30ms/step - loss: 0.3678 - accuracy: 0.8685 - val_loss: 0.5639 - val_accuracy: 0.8217\n",
            "Epoch 38/50\n",
            "196/196 [==============================] - 6s 30ms/step - loss: 0.3578 - accuracy: 0.8728 - val_loss: 0.5785 - val_accuracy: 0.8252\n",
            "Epoch 39/50\n",
            "196/196 [==============================] - 6s 30ms/step - loss: 0.3630 - accuracy: 0.8715 - val_loss: 0.5704 - val_accuracy: 0.8211\n",
            "Epoch 40/50\n",
            "196/196 [==============================] - 6s 30ms/step - loss: 0.3475 - accuracy: 0.8786 - val_loss: 0.5799 - val_accuracy: 0.8152\n",
            "Epoch 41/50\n",
            "196/196 [==============================] - 6s 30ms/step - loss: 0.3467 - accuracy: 0.8787 - val_loss: 0.5765 - val_accuracy: 0.8226\n",
            "Epoch 42/50\n",
            "196/196 [==============================] - 6s 30ms/step - loss: 0.3413 - accuracy: 0.8790 - val_loss: 0.5203 - val_accuracy: 0.8343\n",
            "Epoch 43/50\n",
            "196/196 [==============================] - 6s 30ms/step - loss: 0.3294 - accuracy: 0.8835 - val_loss: 0.5477 - val_accuracy: 0.8276\n",
            "Epoch 44/50\n",
            "196/196 [==============================] - 6s 31ms/step - loss: 0.3307 - accuracy: 0.8830 - val_loss: 0.5625 - val_accuracy: 0.8273\n",
            "Epoch 45/50\n",
            "196/196 [==============================] - 6s 31ms/step - loss: 0.3280 - accuracy: 0.8838 - val_loss: 0.6107 - val_accuracy: 0.8275\n",
            "Epoch 46/50\n",
            "196/196 [==============================] - 6s 30ms/step - loss: 0.3205 - accuracy: 0.8869 - val_loss: 0.5840 - val_accuracy: 0.8313\n",
            "Epoch 47/50\n",
            "196/196 [==============================] - 6s 31ms/step - loss: 0.3191 - accuracy: 0.8850 - val_loss: 0.5237 - val_accuracy: 0.8366\n",
            "Epoch 48/50\n",
            "196/196 [==============================] - 6s 30ms/step - loss: 0.3095 - accuracy: 0.8910 - val_loss: 0.5580 - val_accuracy: 0.8241\n",
            "Epoch 49/50\n",
            "196/196 [==============================] - 6s 30ms/step - loss: 0.3105 - accuracy: 0.8903 - val_loss: 0.5989 - val_accuracy: 0.8218\n",
            "Epoch 50/50\n",
            "196/196 [==============================] - 6s 30ms/step - loss: 0.3061 - accuracy: 0.8912 - val_loss: 0.5716 - val_accuracy: 0.8271\n",
            "Test loss: 0.5716211795806885\n",
            "Test accuracy: 0.8270999789237976\n"
          ]
        }
      ]
    }
  ]
}